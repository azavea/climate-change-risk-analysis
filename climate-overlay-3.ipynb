{
 "cells": [
  {
   "cell_type": "code",
   "execution_count": 1,
   "metadata": {
    "collapsed": true
   },
   "outputs": [],
   "source": [
    "!pip install geopandas --user -q"
   ]
  },
  {
   "cell_type": "code",
   "execution_count": 2,
   "metadata": {
    "collapsed": true
   },
   "outputs": [],
   "source": [
    "import pyproj\n",
    "import geopyspark as gps\n",
    "import fiona\n",
    "import geopandas as gpd\n",
    "\n",
    "from functools import partial\n",
    "from pyspark import SparkContext\n",
    "from geonotebook.wrappers import TMSRasterData\n",
    "from shapely.geometry import MultiPolygon, Polygon, shape\n",
    "from shapely.ops import transform\n",
    "\n",
    "from overlay.data import data, mask"
   ]
  },
  {
   "cell_type": "code",
   "execution_count": 3,
   "metadata": {
    "collapsed": true
   },
   "outputs": [],
   "source": [
    "conf = gps.geopyspark_conf(appName=\"ClimateOverlay\")\n",
    "conf.set('spark.master.memory', '12G')\n",
    "conf.set('spark.ui.enabled', True)\n",
    "sc = SparkContext(conf = conf)"
   ]
  },
  {
   "cell_type": "markdown",
   "metadata": {},
   "source": [
    "# Functions"
   ]
  },
  {
   "cell_type": "code",
   "execution_count": 20,
   "metadata": {
    "collapsed": true
   },
   "outputs": [],
   "source": [
    "def mapp(tiled):\n",
    "    pyramid_layer = tiled.pyramid()\n",
    "    tms = gps.TMS.build(pyramid_layer, gps.ColorMap.build(pyramid_layer.get_histogram(), 'magma'))\n",
    "    for l in M.layers:\n",
    "        M.remove_layer(l)\n",
    "    M.add_layer(TMSRasterData(tms), name=\"layer\")"
   ]
  },
  {
   "cell_type": "markdown",
   "metadata": {},
   "source": [
    "# Study Area"
   ]
  },
  {
   "cell_type": "code",
   "execution_count": 87,
   "metadata": {},
   "outputs": [],
   "source": [
    "base_gpd = gpd.read_file(\"data/read/boundaries/houston.shp\")\n",
    "base_poly = [area_gpd.geometry[0]]"
   ]
  },
  {
   "cell_type": "code",
   "execution_count": 88,
   "metadata": {},
   "outputs": [],
   "source": [
    "base_raster = gps.rasterize(houston_area_geoms,\n",
    "                                        4326,\n",
    "                                        12,\n",
    "                                        1,\n",
    "                                        gps.CellType.INT8)"
   ]
  },
  {
   "cell_type": "code",
   "execution_count": 89,
   "metadata": {
    "collapsed": true
   },
   "outputs": [],
   "source": [
    "base_tiled = base_raster.tile_to_layout(gps.GlobalLayout(), 3857)"
   ]
  },
  {
   "cell_type": "markdown",
   "metadata": {},
   "source": [
    "#### Visualize Study Area"
   ]
  },
  {
   "cell_type": "code",
   "execution_count": 90,
   "metadata": {},
   "outputs": [],
   "source": [
    "mapp(base_tiled)"
   ]
  },
  {
   "cell_type": "markdown",
   "metadata": {},
   "source": [
    "# Storm Surge"
   ]
  },
  {
   "cell_type": "code",
   "execution_count": 94,
   "metadata": {
    "collapsed": true
   },
   "outputs": [],
   "source": [
    "storm_raster = gps.geotiff.get(gps.LayerType.SPATIAL,\n",
    "                    '/home/hadoop/notebooks/data/write/overlay-layers/storm-surge/houston_flood_category5.tif',\n",
    "                     max_tile_size=128,\n",
    "                     num_partitions=32)"
   ]
  },
  {
   "cell_type": "code",
   "execution_count": 95,
   "metadata": {},
   "outputs": [],
   "source": [
    "rmap = {}\n",
    "for x in range(2, 24, 2):\n",
    "    rmap[x + 1] = int(x / 2)\n",
    "\n",
    "storm_reclass = surge_tiled.reclassify(value_map=rmap,\n",
    "                                    data_type=int,\n",
    "                                    replace_nodata_with=1,\n",
    "                                    classification_strategy=gps.ClassificationStrategy.LESS_THAN_OR_EQUAL_TO)"
   ]
  },
  {
   "cell_type": "code",
   "execution_count": 99,
   "metadata": {},
   "outputs": [],
   "source": [
    "storm_tiled = storm_reclass.tile_to_layout(base_tiled.layer_metadata)"
   ]
  },
  {
   "cell_type": "markdown",
   "metadata": {},
   "source": [
    "#### Visualize Storm Surge"
   ]
  },
  {
   "cell_type": "code",
   "execution_count": 97,
   "metadata": {},
   "outputs": [],
   "source": [
    "mapp(storm_tiled)"
   ]
  },
  {
   "cell_type": "markdown",
   "metadata": {},
   "source": [
    "#### Add Storm Surge and Houston Area"
   ]
  },
  {
   "cell_type": "code",
   "execution_count": 102,
   "metadata": {
    "scrolled": true
   },
   "outputs": [],
   "source": [
    "storm_overlay = storm_tiled * base_tiled "
   ]
  },
  {
   "cell_type": "code",
   "execution_count": 103,
   "metadata": {
    "collapsed": true
   },
   "outputs": [],
   "source": [
    "mapp(storm_overlay)"
   ]
  },
  {
   "cell_type": "markdown",
   "metadata": {},
   "source": [
    "# Sea Level Rise"
   ]
  },
  {
   "cell_type": "code",
   "execution_count": 104,
   "metadata": {
    "collapsed": true
   },
   "outputs": [],
   "source": [
    "gdb = \"/home/hadoop/notebooks/data/read/overlay-layers/sea-level-rise/TX_HGX_slr_data_dist/TX_HGX_slr_final_dist.gdb\""
   ]
  },
  {
   "cell_type": "code",
   "execution_count": 105,
   "metadata": {
    "collapsed": true
   },
   "outputs": [],
   "source": [
    "sea_poly = []\n",
    "with fiona.open(gdb, layer='TX_HGX_slr_5ft') as source:\n",
    "    slr_crs = source.crs['init']\n",
    "    for p in source:\n",
    "        sea_poly += MultiPolygon(shape(p['geometry']))"
   ]
  },
  {
   "cell_type": "code",
   "execution_count": 106,
   "metadata": {
    "collapsed": true
   },
   "outputs": [],
   "source": [
    "sea_raster = gps.rasterize(slr,\n",
    "                           4326,\n",
    "                           12,\n",
    "                           5,\n",
    "                           gps.CellType.INT8)"
   ]
  },
  {
   "cell_type": "code",
   "execution_count": 107,
   "metadata": {
    "collapsed": true
   },
   "outputs": [],
   "source": [
    "sea_reclass = sea_raster.reclassify(value_map={5: 5},\n",
    "                                   data_type=int,\n",
    "                                   replace_nodata_with=1,\n",
    "                                   classification_strategy=gps.ClassificationStrategy.EXACT)"
   ]
  },
  {
   "cell_type": "code",
   "execution_count": 108,
   "metadata": {
    "collapsed": true
   },
   "outputs": [],
   "source": [
    "sea_tiled = sea_reclass.tile_to_layout(gps.GlobalLayout(), 3857)"
   ]
  },
  {
   "cell_type": "markdown",
   "metadata": {},
   "source": [
    "#### Union And Aggregate Sea Level and Houston"
   ]
  },
  {
   "cell_type": "code",
   "execution_count": 109,
   "metadata": {
    "collapsed": true
   },
   "outputs": [],
   "source": [
    "sea_unioned_base = gps.geotrellis.union(layers=[base_tiled, sea_tiled])"
   ]
  },
  {
   "cell_type": "code",
   "execution_count": 142,
   "metadata": {
    "collapsed": true
   },
   "outputs": [],
   "source": [
    "sea_aggregated_base = sea_unioned_base.aggregate_by_cell(operation=gps.geotrellis.constants.Operation.MAX)"
   ]
  },
  {
   "cell_type": "code",
   "execution_count": 143,
   "metadata": {
    "collapsed": true
   },
   "outputs": [],
   "source": [
    "sea_overlay = sea_aggregated_base.reclassify(value_map={5: 5, 1:1},\n",
    "                                   data_type=int,\n",
    "                                   replace_nodata_with=1,\n",
    "                                   classification_strategy=gps.ClassificationStrategy.EXACT)"
   ]
  },
  {
   "cell_type": "markdown",
   "metadata": {},
   "source": [
    "#### Visualizing Sea Level Rise"
   ]
  },
  {
   "cell_type": "code",
   "execution_count": 112,
   "metadata": {
    "collapsed": true
   },
   "outputs": [],
   "source": [
    "mapp(sea_overlay)"
   ]
  },
  {
   "cell_type": "markdown",
   "metadata": {},
   "source": [
    "# Flood Hazard"
   ]
  },
  {
   "cell_type": "code",
   "execution_count": 113,
   "metadata": {
    "collapsed": true
   },
   "outputs": [],
   "source": [
    "flood_poly = data.read_from_shp('/home/hadoop/notebooks/data/write/overlay-layers/flood/Fld_Haz_ar_wm_houston.shp')"
   ]
  },
  {
   "cell_type": "code",
   "execution_count": 114,
   "metadata": {},
   "outputs": [],
   "source": [
    "flood_raster = gps.rasterize(geoms=flood_poly,\n",
    "                                 crs = 3857,\n",
    "                                 zoom=12,\n",
    "                                 fill_value = 5,\n",
    "                                 options = gps.RasterizerOptions(\n",
    "                                     includePartial=True, \n",
    "                                     sampleType='PixelIsArea'),\n",
    "                                 cell_type = gps.CellType.INT8,\n",
    "                                 num_partitions = 50)"
   ]
  },
  {
   "cell_type": "code",
   "execution_count": 144,
   "metadata": {},
   "outputs": [],
   "source": [
    "flood_reclass = flood_raster.reclassify(value_map={5: 5},\n",
    "                                   data_type=int,\n",
    "                                   replace_nodata_with=1,\n",
    "                                   classification_strategy=gps.ClassificationStrategy.EXACT)"
   ]
  },
  {
   "cell_type": "code",
   "execution_count": 145,
   "metadata": {
    "scrolled": false
   },
   "outputs": [],
   "source": [
    "flood_tiled = flood_reclass.tile_to_layout(gps.GlobalLayout(), 3857)"
   ]
  },
  {
   "cell_type": "markdown",
   "metadata": {},
   "source": [
    "#### Union And Aggregate Flood Hazard and Houston"
   ]
  },
  {
   "cell_type": "code",
   "execution_count": 146,
   "metadata": {
    "collapsed": true
   },
   "outputs": [],
   "source": [
    "flood_unioned_base = gps.geotrellis.union(layers=[flood_tiled, base_tiled])"
   ]
  },
  {
   "cell_type": "code",
   "execution_count": 147,
   "metadata": {
    "collapsed": true
   },
   "outputs": [],
   "source": [
    "flood_aggregated_base = flood_unioned_base.aggregate_by_cell(operation=gps.geotrellis.constants.Operation.MAX)"
   ]
  },
  {
   "cell_type": "code",
   "execution_count": 148,
   "metadata": {},
   "outputs": [],
   "source": [
    "flood_overlay = flood_aggregated_base.reclassify(value_map={5: 5, 1:1},\n",
    "                                   data_type=int,\n",
    "                                   replace_nodata_with=1,\n",
    "                                   classification_strategy=gps.ClassificationStrategy.EXACT)"
   ]
  },
  {
   "cell_type": "markdown",
   "metadata": {},
   "source": [
    "#### Visualizing Sea Level Rise"
   ]
  },
  {
   "cell_type": "code",
   "execution_count": 137,
   "metadata": {
    "collapsed": true
   },
   "outputs": [],
   "source": [
    "mapp(flood_overlay)"
   ]
  },
  {
   "cell_type": "markdown",
   "metadata": {},
   "source": [
    "# Overlay"
   ]
  },
  {
   "cell_type": "code",
   "execution_count": 149,
   "metadata": {},
   "outputs": [],
   "source": [
    "overlay = flood_overlay + sea_overlay + storm_overlay - 3"
   ]
  },
  {
   "cell_type": "code",
   "execution_count": 150,
   "metadata": {
    "collapsed": true
   },
   "outputs": [],
   "source": [
    "mapp(overlay)"
   ]
  }
 ],
 "metadata": {
  "kernelspec": {
   "display_name": "GeoNotebook + GeoPySpark",
   "language": "python",
   "name": "geonotebook3"
  },
  "language_info": {
   "codemirror_mode": {
    "name": "ipython",
    "version": 3
   },
   "file_extension": ".py",
   "mimetype": "text/x-python",
   "name": "python",
   "nbconvert_exporter": "python",
   "pygments_lexer": "ipython3",
   "version": "3.4.3"
  }
 },
 "nbformat": 4,
 "nbformat_minor": 2
}
