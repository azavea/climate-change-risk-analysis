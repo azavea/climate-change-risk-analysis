{
 "cells": [
  {
   "cell_type": "code",
   "execution_count": null,
   "metadata": {
    "collapsed": true
   },
   "outputs": [],
   "source": [
    "!pip install geopandas --user -q"
   ]
  },
  {
   "cell_type": "code",
   "execution_count": 1,
   "metadata": {},
   "outputs": [],
   "source": [
    "import os\n",
    "import geopyspark as gps\n",
    "\n",
    "from pyspark import SparkContext\n",
    "\n",
    "from overlay import overlay, layers, boundaries, constants, health_resources"
   ]
  },
  {
   "cell_type": "code",
   "execution_count": 2,
   "metadata": {
    "collapsed": true
   },
   "outputs": [],
   "source": [
    "conf = gps.geopyspark_conf(appName=\"ClimateOverlay\")\n",
    "conf.set('spark.master.memory', '12G')\n",
    "conf.set('spark.ui.enabled', True)\n",
    "sc = SparkContext(conf = conf)"
   ]
  },
  {
   "cell_type": "markdown",
   "metadata": {},
   "source": [
    "*Houston*"
   ]
  },
  {
   "cell_type": "code",
   "execution_count": null,
   "metadata": {
    "scrolled": true
   },
   "outputs": [],
   "source": [
    "b = os.path.join(constants.BOUNDARY_OUTPUT_DIR, 'houston.shp')\n",
    "u = os.path.join(constants.NOAA_URL_BASE, 'TX/TX_HGX_slr_data_dist.zip')\n",
    "cm = gps.ColorMap.build(breaks=constants.VALUES, colors = constants.COLORS)\n",
    "hou = overlay.overlay_analysis(M, 'hou', b, u, constants.NATL_STORM_SURGE_5, color_map=cm)"
   ]
  },
  {
   "cell_type": "markdown",
   "metadata": {},
   "source": [
    "*New York*"
   ]
  },
  {
   "cell_type": "code",
   "execution_count": null,
   "metadata": {
    "collapsed": true,
    "scrolled": true
   },
   "outputs": [],
   "source": [
    "u = 'https://coast.noaa.gov/htdata/Inundation/SLR/SLRdata/NY/NY_Metro_slr_data_dist.zip'\n",
    "b = '/home/hadoop/notebooks/data/write/boundaries/newyork.shp'\n",
    "ny = overlay.overlay_analysis(M, 'ny', b, u)"
   ]
  },
  {
   "cell_type": "markdown",
   "metadata": {},
   "source": [
    "*Suffolk County (Long Island)*"
   ]
  },
  {
   "cell_type": "code",
   "execution_count": null,
   "metadata": {
    "collapsed": true,
    "scrolled": true
   },
   "outputs": [],
   "source": [
    "u = 'https://coast.noaa.gov/htdata/Inundation/SLR/SLRdata/NY/NY_Suffolk_slr_data_dist.zip'\n",
    "b = boundaries.get_county_study_area('suffolk', 36, 'suffolk.shp')\n",
    "suffolk = overlay.overlay_analysis(M, 'suffolk', b, u)"
   ]
  },
  {
   "cell_type": "markdown",
   "metadata": {},
   "source": [
    "*Tampa*"
   ]
  },
  {
   "cell_type": "code",
   "execution_count": null,
   "metadata": {
    "scrolled": true
   },
   "outputs": [],
   "source": [
    "u = 'https://coast.noaa.gov/htdata/Inundation/SLR/SLRdata/FL/FL_TBW_slr_data_dist.zip'\n",
    "b = boundaries.get_msa_study_area('tampa','tampa_msa.shp')\n",
    "tampa = overlay.overlay_analysis(M, 'tampa', b, u)"
   ]
  },
  {
   "cell_type": "code",
   "execution_count": 8,
   "metadata": {},
   "outputs": [],
   "source": [
    "import geopandas as gpd\n",
    "f = gpd.read_file('/home/hadoop/notebooks/data/read/overlay-layers/flood/Fld_Haz_ar.shp')"
   ]
  },
  {
   "cell_type": "code",
   "execution_count": 9,
   "metadata": {
    "collapsed": true
   },
   "outputs": [],
   "source": [
    "import pandas as pd\n",
    "ff = pd.DataFrame(f)"
   ]
  },
  {
   "cell_type": "code",
   "execution_count": 10,
   "metadata": {},
   "outputs": [
    {
     "data": {
      "text/html": [
       "<div>\n",
       "<table border=\"1\" class=\"dataframe\">\n",
       "  <thead>\n",
       "    <tr style=\"text-align: right;\">\n",
       "      <th></th>\n",
       "      <th>DFIRM_ID</th>\n",
       "      <th>VERSION_ID</th>\n",
       "      <th>FLD_AR_ID</th>\n",
       "      <th>STUDY_TYP</th>\n",
       "      <th>FLD_ZONE</th>\n",
       "      <th>ZONE_SUBTY</th>\n",
       "      <th>SFHA_TF</th>\n",
       "      <th>STATIC_BFE</th>\n",
       "      <th>V_DATUM</th>\n",
       "      <th>DEPTH</th>\n",
       "      <th>...</th>\n",
       "      <th>AR_REVERT</th>\n",
       "      <th>AR_SUBTRV</th>\n",
       "      <th>BFE_REVERT</th>\n",
       "      <th>DEP_REVERT</th>\n",
       "      <th>DUAL_ZONE</th>\n",
       "      <th>SOURCE_CIT</th>\n",
       "      <th>GFID</th>\n",
       "      <th>SHAPE_Leng</th>\n",
       "      <th>SHAPE_Area</th>\n",
       "      <th>geometry</th>\n",
       "    </tr>\n",
       "  </thead>\n",
       "  <tbody>\n",
       "    <tr>\n",
       "      <th>0</th>\n",
       "      <td>48057C</td>\n",
       "      <td>1.1.1.0</td>\n",
       "      <td>48057C_101</td>\n",
       "      <td>NP</td>\n",
       "      <td>VE</td>\n",
       "      <td>None</td>\n",
       "      <td>T</td>\n",
       "      <td>13.0</td>\n",
       "      <td>NAVD88</td>\n",
       "      <td>-9999.0</td>\n",
       "      <td>...</td>\n",
       "      <td>None</td>\n",
       "      <td>None</td>\n",
       "      <td>-9999.0</td>\n",
       "      <td>-9999.0</td>\n",
       "      <td>None</td>\n",
       "      <td>48057C_STUDY1</td>\n",
       "      <td>20140930</td>\n",
       "      <td>0.037721</td>\n",
       "      <td>9.591310e-06</td>\n",
       "      <td>POLYGON ((-96.41820397784505 28.68983344243782...</td>\n",
       "    </tr>\n",
       "    <tr>\n",
       "      <th>1</th>\n",
       "      <td>48057C</td>\n",
       "      <td>1.1.1.0</td>\n",
       "      <td>48057C_102</td>\n",
       "      <td>NP</td>\n",
       "      <td>X</td>\n",
       "      <td>AREA OF MINIMAL FLOOD HAZARD</td>\n",
       "      <td>F</td>\n",
       "      <td>-9999.0</td>\n",
       "      <td>None</td>\n",
       "      <td>-9999.0</td>\n",
       "      <td>...</td>\n",
       "      <td>None</td>\n",
       "      <td>None</td>\n",
       "      <td>-9999.0</td>\n",
       "      <td>-9999.0</td>\n",
       "      <td>None</td>\n",
       "      <td>48057C_STUDY1</td>\n",
       "      <td>20140930</td>\n",
       "      <td>0.013807</td>\n",
       "      <td>8.697384e-06</td>\n",
       "      <td>POLYGON ((-96.48332642396065 28.70513590536899...</td>\n",
       "    </tr>\n",
       "    <tr>\n",
       "      <th>2</th>\n",
       "      <td>48057C</td>\n",
       "      <td>1.1.1.0</td>\n",
       "      <td>48057C_103</td>\n",
       "      <td>NP</td>\n",
       "      <td>X</td>\n",
       "      <td>AREA OF MINIMAL FLOOD HAZARD</td>\n",
       "      <td>F</td>\n",
       "      <td>-9999.0</td>\n",
       "      <td>None</td>\n",
       "      <td>-9999.0</td>\n",
       "      <td>...</td>\n",
       "      <td>None</td>\n",
       "      <td>None</td>\n",
       "      <td>-9999.0</td>\n",
       "      <td>-9999.0</td>\n",
       "      <td>None</td>\n",
       "      <td>48057C_STUDY1</td>\n",
       "      <td>20140930</td>\n",
       "      <td>0.276885</td>\n",
       "      <td>1.436534e-03</td>\n",
       "      <td>POLYGON ((-96.53228897732873 28.68057395479269...</td>\n",
       "    </tr>\n",
       "    <tr>\n",
       "      <th>3</th>\n",
       "      <td>01063C</td>\n",
       "      <td>1.1.1.0</td>\n",
       "      <td>01063C_1026</td>\n",
       "      <td>NP</td>\n",
       "      <td>X</td>\n",
       "      <td>AREA OF MINIMAL FLOOD HAZARD</td>\n",
       "      <td>F</td>\n",
       "      <td>-9999.0</td>\n",
       "      <td>None</td>\n",
       "      <td>-9999.0</td>\n",
       "      <td>...</td>\n",
       "      <td>None</td>\n",
       "      <td>None</td>\n",
       "      <td>-9999.0</td>\n",
       "      <td>-9999.0</td>\n",
       "      <td>None</td>\n",
       "      <td>01063C_STUDY2</td>\n",
       "      <td>None</td>\n",
       "      <td>0.002934</td>\n",
       "      <td>5.641283e-07</td>\n",
       "      <td>POLYGON ((-87.83938510452873 32.60835435512706...</td>\n",
       "    </tr>\n",
       "    <tr>\n",
       "      <th>4</th>\n",
       "      <td>01063C</td>\n",
       "      <td>1.1.1.0</td>\n",
       "      <td>01063C_1181</td>\n",
       "      <td>NP</td>\n",
       "      <td>X</td>\n",
       "      <td>AREA OF MINIMAL FLOOD HAZARD</td>\n",
       "      <td>F</td>\n",
       "      <td>-9999.0</td>\n",
       "      <td>None</td>\n",
       "      <td>-9999.0</td>\n",
       "      <td>...</td>\n",
       "      <td>None</td>\n",
       "      <td>None</td>\n",
       "      <td>-9999.0</td>\n",
       "      <td>-9999.0</td>\n",
       "      <td>None</td>\n",
       "      <td>01063C_STUDY2</td>\n",
       "      <td>None</td>\n",
       "      <td>0.001871</td>\n",
       "      <td>2.098302e-07</td>\n",
       "      <td>POLYGON ((-88.14937782522617 32.95524740858554...</td>\n",
       "    </tr>\n",
       "  </tbody>\n",
       "</table>\n",
       "<p>5 rows × 23 columns</p>\n",
       "</div>"
      ],
      "text/plain": [
       "  DFIRM_ID VERSION_ID    FLD_AR_ID STUDY_TYP FLD_ZONE  \\\n",
       "0   48057C    1.1.1.0   48057C_101        NP       VE   \n",
       "1   48057C    1.1.1.0   48057C_102        NP        X   \n",
       "2   48057C    1.1.1.0   48057C_103        NP        X   \n",
       "3   01063C    1.1.1.0  01063C_1026        NP        X   \n",
       "4   01063C    1.1.1.0  01063C_1181        NP        X   \n",
       "\n",
       "                     ZONE_SUBTY SFHA_TF  STATIC_BFE V_DATUM   DEPTH  \\\n",
       "0                          None       T        13.0  NAVD88 -9999.0   \n",
       "1  AREA OF MINIMAL FLOOD HAZARD       F     -9999.0    None -9999.0   \n",
       "2  AREA OF MINIMAL FLOOD HAZARD       F     -9999.0    None -9999.0   \n",
       "3  AREA OF MINIMAL FLOOD HAZARD       F     -9999.0    None -9999.0   \n",
       "4  AREA OF MINIMAL FLOOD HAZARD       F     -9999.0    None -9999.0   \n",
       "\n",
       "                         ...                         AR_REVERT  AR_SUBTRV  \\\n",
       "0                        ...                              None       None   \n",
       "1                        ...                              None       None   \n",
       "2                        ...                              None       None   \n",
       "3                        ...                              None       None   \n",
       "4                        ...                              None       None   \n",
       "\n",
       "  BFE_REVERT DEP_REVERT DUAL_ZONE     SOURCE_CIT      GFID SHAPE_Leng  \\\n",
       "0    -9999.0    -9999.0      None  48057C_STUDY1  20140930   0.037721   \n",
       "1    -9999.0    -9999.0      None  48057C_STUDY1  20140930   0.013807   \n",
       "2    -9999.0    -9999.0      None  48057C_STUDY1  20140930   0.276885   \n",
       "3    -9999.0    -9999.0      None  01063C_STUDY2      None   0.002934   \n",
       "4    -9999.0    -9999.0      None  01063C_STUDY2      None   0.001871   \n",
       "\n",
       "     SHAPE_Area                                           geometry  \n",
       "0  9.591310e-06  POLYGON ((-96.41820397784505 28.68983344243782...  \n",
       "1  8.697384e-06  POLYGON ((-96.48332642396065 28.70513590536899...  \n",
       "2  1.436534e-03  POLYGON ((-96.53228897732873 28.68057395479269...  \n",
       "3  5.641283e-07  POLYGON ((-87.83938510452873 32.60835435512706...  \n",
       "4  2.098302e-07  POLYGON ((-88.14937782522617 32.95524740858554...  \n",
       "\n",
       "[5 rows x 23 columns]"
      ]
     },
     "execution_count": 10,
     "metadata": {},
     "output_type": "execute_result"
    }
   ],
   "source": [
    "ff.head()"
   ]
  },
  {
   "cell_type": "markdown",
   "metadata": {},
   "source": [
    "### step by step"
   ]
  },
  {
   "cell_type": "code",
   "execution_count": null,
   "metadata": {
    "collapsed": true,
    "scrolled": false
   },
   "outputs": [],
   "source": [
    "hou = overlay.Overlay('hou','/home/hadoop/notebooks/data/read/boundaries/houston.shp')"
   ]
  },
  {
   "cell_type": "code",
   "execution_count": null,
   "metadata": {
    "collapsed": true
   },
   "outputs": [],
   "source": [
    "M.set_center(hou.study_area['centroid_wgs']['x'], hou.study_area['centroid_wgs']['y'], 9)"
   ]
  },
  {
   "cell_type": "markdown",
   "metadata": {},
   "source": [
    "*Prep Input Layer Datasets*"
   ]
  },
  {
   "cell_type": "code",
   "execution_count": null,
   "metadata": {
    "collapsed": true
   },
   "outputs": [],
   "source": [
    "flood = '/home/hadoop/notebooks/data/read/overlay-layers/flood/Fld_Haz_ar.shp'\n",
    "sea = 'https://coast.noaa.gov/htdata/Inundation/SLR/SLRdata/TX/TX_HGX_slr_data_dist.zip'\n",
    "storm = '/home/hadoop/notebooks/data/read/overlay-layers/storm-surge/US_Category5_MOM_Inundation_HighTide.tif'\n",
    "\n",
    "input_data = hou.prep_data(flood, sea, storm)"
   ]
  },
  {
   "cell_type": "markdown",
   "metadata": {},
   "source": [
    "*Storm Surge*"
   ]
  },
  {
   "cell_type": "code",
   "execution_count": null,
   "metadata": {
    "collapsed": true
   },
   "outputs": [],
   "source": [
    "hou.storm_surge = layers.storm_surge(hou, input_data['storm_surge'])"
   ]
  },
  {
   "cell_type": "code",
   "execution_count": null,
   "metadata": {
    "collapsed": true
   },
   "outputs": [],
   "source": [
    "overlay.map_layer(M, hou.storm_surge)"
   ]
  },
  {
   "cell_type": "code",
   "execution_count": null,
   "metadata": {
    "collapsed": true
   },
   "outputs": [],
   "source": [
    "hou.storm_surge.get_histogram().bin_counts()"
   ]
  },
  {
   "cell_type": "markdown",
   "metadata": {},
   "source": [
    "*Sea Level Rise*"
   ]
  },
  {
   "cell_type": "code",
   "execution_count": null,
   "metadata": {
    "collapsed": true
   },
   "outputs": [],
   "source": [
    "hou.sea_level_rise = layers.sea_level_rise(hou, input_data['sea_level'])"
   ]
  },
  {
   "cell_type": "code",
   "execution_count": null,
   "metadata": {
    "collapsed": true
   },
   "outputs": [],
   "source": [
    "hou.sea_level_rise.get_histogram().bin_counts()"
   ]
  },
  {
   "cell_type": "code",
   "execution_count": null,
   "metadata": {
    "collapsed": true
   },
   "outputs": [],
   "source": [
    "cm = gps.ColorMap.build(breaks=[1, 5], colors=[0xD28170FF, 0x526095FF])"
   ]
  },
  {
   "cell_type": "code",
   "execution_count": null,
   "metadata": {
    "collapsed": true,
    "scrolled": false
   },
   "outputs": [],
   "source": [
    "overlay.map_layer(M, hou.sea_level_rise, cm)"
   ]
  },
  {
   "cell_type": "markdown",
   "metadata": {},
   "source": [
    "*Flood Hazard*"
   ]
  },
  {
   "cell_type": "code",
   "execution_count": null,
   "metadata": {
    "collapsed": true,
    "scrolled": true
   },
   "outputs": [],
   "source": [
    "hou.flood = layers.flood_hazard(hou, input_data['flood'])"
   ]
  },
  {
   "cell_type": "code",
   "execution_count": null,
   "metadata": {
    "collapsed": true
   },
   "outputs": [],
   "source": [
    "hou.flood.get_histogram().bin_counts()"
   ]
  },
  {
   "cell_type": "code",
   "execution_count": null,
   "metadata": {
    "collapsed": true
   },
   "outputs": [],
   "source": [
    "overlay.map_layer(M, hou.flood, cm)"
   ]
  },
  {
   "cell_type": "code",
   "execution_count": null,
   "metadata": {
    "collapsed": true
   },
   "outputs": [],
   "source": []
  },
  {
   "cell_type": "code",
   "execution_count": null,
   "metadata": {
    "collapsed": true
   },
   "outputs": [],
   "source": [
    "ov = hou.flood + hou.sea_level_rise + hou.storm_surge - 3"
   ]
  },
  {
   "cell_type": "code",
   "execution_count": null,
   "metadata": {
    "collapsed": true
   },
   "outputs": [],
   "source": [
    "ov.get_histogram().bin_counts()"
   ]
  },
  {
   "cell_type": "code",
   "execution_count": null,
   "metadata": {
    "collapsed": true
   },
   "outputs": [],
   "source": [
    "overlay.map_layer(M, ov)"
   ]
  },
  {
   "cell_type": "code",
   "execution_count": null,
   "metadata": {
    "collapsed": true
   },
   "outputs": [],
   "source": []
  },
  {
   "cell_type": "markdown",
   "metadata": {},
   "source": [
    "# Study Area"
   ]
  },
  {
   "cell_type": "code",
   "execution_count": null,
   "metadata": {
    "collapsed": true
   },
   "outputs": [],
   "source": [
    "base_gpd = gpd.read_file(\"data/read/boundaries/houston.shp\")\n",
    "base_poly = [base_gpd.geometry[0]]"
   ]
  },
  {
   "cell_type": "code",
   "execution_count": null,
   "metadata": {
    "collapsed": true
   },
   "outputs": [],
   "source": [
    "base_raster = gps.rasterize(base_poly, 4326, 12, 1, gps.CellType.INT8)"
   ]
  },
  {
   "cell_type": "code",
   "execution_count": null,
   "metadata": {
    "collapsed": true
   },
   "outputs": [],
   "source": [
    "base_tiled = base_raster.tile_to_layout(gps.GlobalLayout(), 3857)"
   ]
  },
  {
   "cell_type": "markdown",
   "metadata": {},
   "source": [
    "#### Visualize Study Area"
   ]
  },
  {
   "cell_type": "code",
   "execution_count": null,
   "metadata": {
    "collapsed": true
   },
   "outputs": [],
   "source": [
    "mapp(base_tiled)"
   ]
  },
  {
   "cell_type": "markdown",
   "metadata": {},
   "source": [
    "# Storm Surge"
   ]
  },
  {
   "cell_type": "code",
   "execution_count": null,
   "metadata": {
    "collapsed": true
   },
   "outputs": [],
   "source": [
    "storm_raster = gps.geotiff.get(gps.LayerType.SPATIAL,\n",
    "                    '/home/hadoop/notebooks/data/write/overlay-layers/storm-surge/houston_flood_category5.tif',\n",
    "                     max_tile_size=128,\n",
    "                     num_partitions=32)"
   ]
  },
  {
   "cell_type": "code",
   "execution_count": null,
   "metadata": {
    "collapsed": true
   },
   "outputs": [],
   "source": [
    "rmap = {}\n",
    "for x in range(2, 24, 2):\n",
    "    rmap[x + 1] = int(x / 2)\n",
    "\n",
    "storm_reclass = surge_tiled.reclassify(value_map=rmap,\n",
    "                                    data_type=int,\n",
    "                                    replace_nodata_with=1,\n",
    "                                    classification_strategy=gps.ClassificationStrategy.LESS_THAN_OR_EQUAL_TO)"
   ]
  },
  {
   "cell_type": "code",
   "execution_count": null,
   "metadata": {
    "collapsed": true
   },
   "outputs": [],
   "source": [
    "storm_tiled = storm_reclass.tile_to_layout(base_tiled.layer_metadata)"
   ]
  },
  {
   "cell_type": "markdown",
   "metadata": {},
   "source": [
    "#### Visualize Storm Surge"
   ]
  },
  {
   "cell_type": "code",
   "execution_count": null,
   "metadata": {
    "collapsed": true
   },
   "outputs": [],
   "source": [
    "mapp(storm_tiled)"
   ]
  },
  {
   "cell_type": "markdown",
   "metadata": {},
   "source": [
    "#### Add Storm Surge and Houston Area"
   ]
  },
  {
   "cell_type": "code",
   "execution_count": null,
   "metadata": {
    "collapsed": true,
    "scrolled": true
   },
   "outputs": [],
   "source": [
    "storm_overlay = storm_tiled * base_tiled "
   ]
  },
  {
   "cell_type": "code",
   "execution_count": null,
   "metadata": {
    "collapsed": true
   },
   "outputs": [],
   "source": [
    "mapp(storm_overlay)"
   ]
  },
  {
   "cell_type": "markdown",
   "metadata": {},
   "source": [
    "# Sea Level Rise"
   ]
  },
  {
   "cell_type": "code",
   "execution_count": null,
   "metadata": {
    "collapsed": true
   },
   "outputs": [],
   "source": [
    "gdb = \"/home/hadoop/notebooks/data/read/overlay-layers/sea-level-rise/TX_HGX_slr_data_dist/TX_HGX_slr_final_dist.gdb\""
   ]
  },
  {
   "cell_type": "code",
   "execution_count": null,
   "metadata": {
    "collapsed": true
   },
   "outputs": [],
   "source": [
    "sea_poly = []\n",
    "with fiona.open(gdb, layer='TX_HGX_slr_5ft') as source:\n",
    "    slr_crs = source.crs['init']\n",
    "    for p in source:\n",
    "        sea_poly += MultiPolygon(shape(p['geometry']))"
   ]
  },
  {
   "cell_type": "code",
   "execution_count": null,
   "metadata": {
    "collapsed": true
   },
   "outputs": [],
   "source": [
    "sea_raster = gps.rasterize(slr,\n",
    "                           4326,\n",
    "                           12,\n",
    "                           5,\n",
    "                           gps.CellType.INT8)"
   ]
  },
  {
   "cell_type": "code",
   "execution_count": null,
   "metadata": {
    "collapsed": true
   },
   "outputs": [],
   "source": [
    "sea_reclass = sea_raster.reclassify(value_map={5: 5},\n",
    "                                   data_type=int,\n",
    "                                   replace_nodata_with=1,\n",
    "                                   classification_strategy=gps.ClassificationStrategy.EXACT)"
   ]
  },
  {
   "cell_type": "code",
   "execution_count": null,
   "metadata": {
    "collapsed": true
   },
   "outputs": [],
   "source": [
    "sea_tiled = sea_reclass.tile_to_layout(gps.GlobalLayout(), 3857)"
   ]
  },
  {
   "cell_type": "markdown",
   "metadata": {},
   "source": [
    "#### Union And Aggregate Sea Level and Houston"
   ]
  },
  {
   "cell_type": "code",
   "execution_count": null,
   "metadata": {
    "collapsed": true
   },
   "outputs": [],
   "source": [
    "sea_unioned_base = gps.geotrellis.union(layers=[base_tiled, sea_tiled])"
   ]
  },
  {
   "cell_type": "code",
   "execution_count": null,
   "metadata": {
    "collapsed": true
   },
   "outputs": [],
   "source": [
    "sea_aggregated_base = sea_unioned_base.aggregate_by_cell(operation=gps.geotrellis.constants.Operation.MAX)"
   ]
  },
  {
   "cell_type": "code",
   "execution_count": null,
   "metadata": {
    "collapsed": true
   },
   "outputs": [],
   "source": [
    "sea_overlay = sea_aggregated_base.reclassify(value_map={5: 5, 1:1},\n",
    "                                   data_type=int,\n",
    "                                   replace_nodata_with=1,\n",
    "                                   classification_strategy=gps.ClassificationStrategy.EXACT)"
   ]
  },
  {
   "cell_type": "markdown",
   "metadata": {},
   "source": [
    "#### Visualizing Sea Level Rise"
   ]
  },
  {
   "cell_type": "code",
   "execution_count": null,
   "metadata": {
    "collapsed": true
   },
   "outputs": [],
   "source": [
    "mapp(sea_overlay)"
   ]
  },
  {
   "cell_type": "markdown",
   "metadata": {},
   "source": [
    "# Flood Hazard"
   ]
  },
  {
   "cell_type": "code",
   "execution_count": null,
   "metadata": {
    "collapsed": true
   },
   "outputs": [],
   "source": [
    "flood_poly = data.read_from_shp('/home/hadoop/notebooks/data/write/overlay-layers/flood/Fld_Haz_ar_wm_houston.shp')"
   ]
  },
  {
   "cell_type": "code",
   "execution_count": null,
   "metadata": {
    "collapsed": true
   },
   "outputs": [],
   "source": [
    "flood_raster = gps.rasterize(geoms=flood_poly,\n",
    "                                 crs = 3857,\n",
    "                                 zoom=12,\n",
    "                                 fill_value = 5,\n",
    "                                 options = gps.RasterizerOptions(\n",
    "                                     includePartial=True, \n",
    "                                     sampleType='PixelIsArea'),\n",
    "                                 cell_type = gps.CellType.INT8,\n",
    "                                 num_partitions = 50)"
   ]
  },
  {
   "cell_type": "code",
   "execution_count": null,
   "metadata": {
    "collapsed": true
   },
   "outputs": [],
   "source": [
    "flood_reclass = flood_raster.reclassify(value_map={5: 5},\n",
    "                                   data_type=int,\n",
    "                                   replace_nodata_with=1,\n",
    "                                   classification_strategy=gps.ClassificationStrategy.EXACT)"
   ]
  },
  {
   "cell_type": "code",
   "execution_count": null,
   "metadata": {
    "collapsed": true,
    "scrolled": false
   },
   "outputs": [],
   "source": [
    "flood_tiled = flood_reclass.tile_to_layout(gps.GlobalLayout(), 3857)"
   ]
  },
  {
   "cell_type": "markdown",
   "metadata": {},
   "source": [
    "#### Union And Aggregate Flood Hazard and Houston"
   ]
  },
  {
   "cell_type": "code",
   "execution_count": null,
   "metadata": {
    "collapsed": true
   },
   "outputs": [],
   "source": [
    "flood_unioned_base = gps.geotrellis.union(layers=[flood_tiled, base_tiled])"
   ]
  },
  {
   "cell_type": "code",
   "execution_count": null,
   "metadata": {
    "collapsed": true
   },
   "outputs": [],
   "source": [
    "flood_aggregated_base = flood_unioned_base.aggregate_by_cell(operation=gps.geotrellis.constants.Operation.MAX)"
   ]
  },
  {
   "cell_type": "code",
   "execution_count": null,
   "metadata": {
    "collapsed": true
   },
   "outputs": [],
   "source": [
    "flood_overlay = flood_aggregated_base.reclassify(value_map={5: 5, 1:1},\n",
    "                                   data_type=int,\n",
    "                                   replace_nodata_with=1,\n",
    "                                   classification_strategy=gps.ClassificationStrategy.EXACT)"
   ]
  },
  {
   "cell_type": "markdown",
   "metadata": {},
   "source": [
    "#### Visualizing Sea Level Rise"
   ]
  },
  {
   "cell_type": "code",
   "execution_count": null,
   "metadata": {
    "collapsed": true
   },
   "outputs": [],
   "source": [
    "mapp(flood_overlay)"
   ]
  },
  {
   "cell_type": "markdown",
   "metadata": {},
   "source": [
    "# Overlay"
   ]
  },
  {
   "cell_type": "code",
   "execution_count": null,
   "metadata": {
    "collapsed": true
   },
   "outputs": [],
   "source": [
    "overlay = flood_overlay + sea_overlay + storm_overlay - 3"
   ]
  },
  {
   "cell_type": "code",
   "execution_count": null,
   "metadata": {
    "collapsed": true
   },
   "outputs": [],
   "source": [
    "mapp(overlay)"
   ]
  }
 ],
 "metadata": {
  "kernelspec": {
   "display_name": "GeoNotebook + GeoPySpark",
   "language": "python",
   "name": "geonotebook3"
  },
  "language_info": {
   "codemirror_mode": {
    "name": "ipython",
    "version": 3
   },
   "file_extension": ".py",
   "mimetype": "text/x-python",
   "name": "python",
   "nbconvert_exporter": "python",
   "pygments_lexer": "ipython3",
   "version": "3.4.3"
  }
 },
 "nbformat": 4,
 "nbformat_minor": 2
}
