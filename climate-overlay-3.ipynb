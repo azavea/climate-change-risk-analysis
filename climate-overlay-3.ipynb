{
 "cells": [
  {
   "cell_type": "code",
   "execution_count": null,
   "metadata": {
    "collapsed": true
   },
   "outputs": [],
   "source": [
    "!pip install geopandas --user -q\n",
    "!pip install palettable --user -q"
   ]
  },
  {
   "cell_type": "code",
   "execution_count": 2,
   "metadata": {},
   "outputs": [],
   "source": [
    "import os\n",
    "import geopyspark as gps\n",
    "\n",
    "from pyspark import SparkContext\n",
    "\n",
    "from overlay import analysis, layers, boundaries, constants\n",
    "\n",
    "%matplotlib inline"
   ]
  },
  {
   "cell_type": "code",
   "execution_count": 3,
   "metadata": {},
   "outputs": [],
   "source": [
    "conf = gps.geopyspark_conf(appName=\"ClimateOverlay\")\n",
    "conf.set('spark.master.memory', '12G')\n",
    "conf.set('spark.ui.enabled', True)\n",
    "sc = SparkContext(conf = conf)"
   ]
  },
  {
   "cell_type": "markdown",
   "metadata": {},
   "source": [
    "*Houston*"
   ]
  },
  {
   "cell_type": "code",
   "execution_count": null,
   "metadata": {},
   "outputs": [],
   "source": [
    "b = os.path.join(constants.BOUNDARY_OUTPUT_DIR, 'houston.shp')\n",
    "u = os.path.join(constants.NOAA_URL_BASE, 'TX/TX_HGX_slr_data_dist.zip')\n",
    "cm = gps.ColorMap.build(breaks=constants.VALUES, colors = constants.COLORS)\n",
    "hosp_out = os.path.join(constants.DATA_DIR, 'output/houston_hospitals.shp')\n",
    "hosp_in = '/home/hadoop/notebooks/data/read/health/Hospitals.shp'\n",
    "hou, p = analysis.overlay_analysis(M, 'hou', b, hosp_in, hosp_out, u, constants.NATL_STORM_SURGE_5, color_map=cm)"
   ]
  },
  {
   "cell_type": "markdown",
   "metadata": {},
   "source": [
    "# Widgets"
   ]
  },
  {
   "cell_type": "code",
   "execution_count": 12,
   "metadata": {},
   "outputs": [],
   "source": [
    "import ipywidgets as widgets\n",
    "from IPython.display import display\n",
    "\n",
    "# Widget events example\n",
    "# http://ipywidgets.readthedocs.io/en/latest/examples/Widget%20Events.html\n",
    "\n",
    "# Button docs\n",
    "# http://ipywidgets.readthedocs.io/en/latest/examples/Widget%20Events.html\n",
    "\n",
    "# Layout\n",
    "# https://github.com/jupyter-widgets/ipywidgets/blob/master/docs/source/examples/Widget%20Styling.ipynb\n",
    "\n",
    "class overlay_input():\n",
    "    def __init__(self, \n",
    "                 overlay_name = 'houston', \n",
    "                 boundary_shp = '/home/hadoop/notebooks/data/write/boundaries/houston.shp', \n",
    "                 input_points = '/home/hadoop/notebooks/data/read/health/Hospitals.shp',\n",
    "                 output_points = '/home/hadoop/notebooks/data/output/houston_hospitals.shp',\n",
    "                 sea_url = 'https://coast.noaa.gov/htdata/Inundation/SLR/SLRdata/TX/TX_HGX_slr_data_dist.zip',\n",
    "                 storm = '/home/hadoop/notebooks/data/read/overlay-layers/storm-surge/US_Category1_MOM_Inundation_HighTide.tif',\n",
    "                 flood = '/home/hadoop/notebooks/data/read/overlay-layers/flood/Fld_Haz_ar.shp'\n",
    "                ):\n",
    "        \n",
    "        self.overlay_name = widgets.Text(description = 'Overlay name', value = overlay_name, \n",
    "                                         layout=widgets.Layout(width='100%', height='30px'))\n",
    "        self.boundary_shp = widgets.Text(description = 'Boundary shp', value = boundary_shp,\n",
    "                                         layout=widgets.Layout(width='100%', height='30px'))\n",
    "        self.input_points = widgets.Text(description = 'Input points', value = input_points,\n",
    "                                        layout=widgets.Layout(width='100%', height='30px'))\n",
    "        self.output_points = widgets.Text(description = 'Output points', value = output_points,\n",
    "                                         layout=widgets.Layout(width='100%', height='30px'))\n",
    "        self.sea_url = widgets.Text(description = 'Sea level rise url', value = sea_url,\n",
    "                                   layout=widgets.Layout(width='100%', height='30px'))\n",
    "        self.storm = widgets.Text(description = \"Storm surge tiff\", value=storm,\n",
    "                                 layout=widgets.Layout(width='100%', height='30px'))\n",
    "        self.flood = widgets.Text(description = \"Flood hazard layer\", value=flood,\n",
    "                                 layout=widgets.Layout(width='100%', height='30px'))\n",
    "        \n",
    "        self.run = widgets.Button(description ='RUN', layout=widgets.Layout(width='100%', height='80px'))\n",
    "        \n",
    "        self.run.on_click(self.handle_button)\n",
    "        display(self.overlay_name, self.boundary_shp, self.input_points, self.output_points,\n",
    "               self.sea_url, self.storm, self.flood, self.run)\n",
    "    \n",
    "    def handle_button(self, text):\n",
    "        analysis.overlay_analysis(M, \n",
    "                                  self.overlay_name.value, \n",
    "                                  self.boundary_shp.value, \n",
    "                                  self.input_points.value, \n",
    "                                  self.output_points.value, \n",
    "                                  self.sea_url.value,  \n",
    "                                  self.storm.value, \n",
    "                                  self.flood.value)"
   ]
  },
  {
   "cell_type": "code",
   "execution_count": 13,
   "metadata": {},
   "outputs": [
    {
     "data": {
      "application/vnd.jupyter.widget-view+json": {
       "model_id": "09634616f28044049225870e470f883e"
      }
     },
     "metadata": {},
     "output_type": "display_data"
    },
    {
     "data": {
      "application/vnd.jupyter.widget-view+json": {
       "model_id": "8d646934047a4f35a2e46c9fcd0fe532"
      }
     },
     "metadata": {},
     "output_type": "display_data"
    },
    {
     "data": {
      "application/vnd.jupyter.widget-view+json": {
       "model_id": "63e725913c1849f8b2dcd24f7d068c66"
      }
     },
     "metadata": {},
     "output_type": "display_data"
    },
    {
     "data": {
      "application/vnd.jupyter.widget-view+json": {
       "model_id": "62af4216151f4be18a08e3aa31ea4fdf"
      }
     },
     "metadata": {},
     "output_type": "display_data"
    },
    {
     "data": {
      "application/vnd.jupyter.widget-view+json": {
       "model_id": "d75ab5c61ff04b3fbd802d7cacfc33d3"
      }
     },
     "metadata": {},
     "output_type": "display_data"
    },
    {
     "data": {
      "application/vnd.jupyter.widget-view+json": {
       "model_id": "1a2c7cb9c0e04d4fa0c78f14c3d67b7d"
      }
     },
     "metadata": {},
     "output_type": "display_data"
    },
    {
     "data": {
      "application/vnd.jupyter.widget-view+json": {
       "model_id": "6f01f1c5c4224900ab1762b3487872ed"
      }
     },
     "metadata": {},
     "output_type": "display_data"
    },
    {
     "data": {
      "application/vnd.jupyter.widget-view+json": {
       "model_id": "c077438fdae9429182b5b580f27e0105"
      }
     },
     "metadata": {},
     "output_type": "display_data"
    }
   ],
   "source": [
    "f = overlay_input()"
   ]
  },
  {
   "cell_type": "markdown",
   "metadata": {},
   "source": [
    "# Add'l examples"
   ]
  },
  {
   "cell_type": "markdown",
   "metadata": {},
   "source": [
    "*New York*"
   ]
  },
  {
   "cell_type": "code",
   "execution_count": null,
   "metadata": {
    "collapsed": true,
    "scrolled": true
   },
   "outputs": [],
   "source": [
    "u = 'https://coast.noaa.gov/htdata/Inundation/SLR/SLRdata/NY/NY_Metro_slr_data_dist.zip'\n",
    "b = '/home/hadoop/notebooks/data/write/boundaries/newyork.shp'\n",
    "ny = overlay.overlay_analysis(M, 'ny', b, u)"
   ]
  },
  {
   "cell_type": "markdown",
   "metadata": {},
   "source": [
    "*Suffolk County (Long Island)*"
   ]
  },
  {
   "cell_type": "code",
   "execution_count": null,
   "metadata": {
    "collapsed": true,
    "scrolled": true
   },
   "outputs": [],
   "source": [
    "u = 'https://coast.noaa.gov/htdata/Inundation/SLR/SLRdata/NY/NY_Suffolk_slr_data_dist.zip'\n",
    "b = boundaries.get_county_study_area('suffolk', 36, 'suffolk.shp')\n",
    "suffolk = overlay.overlay_analysis(M, 'suffolk', b, u)"
   ]
  },
  {
   "cell_type": "markdown",
   "metadata": {},
   "source": [
    "*Tampa*"
   ]
  },
  {
   "cell_type": "code",
   "execution_count": null,
   "metadata": {
    "scrolled": false
   },
   "outputs": [],
   "source": [
    "u = 'https://coast.noaa.gov/htdata/Inundation/SLR/SLRdata/FL/FL_TBW_slr_data_dist.zip'\n",
    "b = boundaries.get_msa_study_area('tampa','tampa_msa.shp')\n",
    "tampa = overlay.overlay_analysis(M, 'tampa', b, u)"
   ]
  },
  {
   "cell_type": "code",
   "execution_count": null,
   "metadata": {
    "scrolled": true
   },
   "outputs": [],
   "source": [
    "tampa_out = os.path.join(constants.DATA_DIR, 'output/tampa_hospitals.shp')\n",
    "health_resources.get_health_point_values(constants.HOSPITALS_WGS, tampa, tampa_out)"
   ]
  }
 ],
 "metadata": {
  "kernelspec": {
   "display_name": "GeoNotebook + GeoPySpark",
   "language": "python",
   "name": "geonotebook3"
  },
  "language_info": {
   "codemirror_mode": {
    "name": "ipython",
    "version": 3
   },
   "file_extension": ".py",
   "mimetype": "text/x-python",
   "name": "python",
   "nbconvert_exporter": "python",
   "pygments_lexer": "ipython3",
   "version": "3.4.3"
  }
 },
 "nbformat": 4,
 "nbformat_minor": 2
}
