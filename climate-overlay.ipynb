{
 "cells": [
  {
   "cell_type": "markdown",
   "metadata": {},
   "source": [
    "# Setup"
   ]
  },
  {
   "cell_type": "markdown",
   "metadata": {},
   "source": [
    "### additional dependencies/configuration"
   ]
  },
  {
   "cell_type": "code",
   "execution_count": 2,
   "metadata": {
    "collapsed": true
   },
   "outputs": [],
   "source": [
    "!pip install geopandas --user -q"
   ]
  },
  {
   "cell_type": "markdown",
   "metadata": {},
   "source": [
    "### modules"
   ]
  },
  {
   "cell_type": "code",
   "execution_count": 70,
   "metadata": {
    "collapsed": true
   },
   "outputs": [],
   "source": [
    "from functools import partial\n",
    "import pyproj\n",
    "from pyspark import SparkContext\n",
    "from geopyspark.geotrellis.color import ColorMap, get_colors_from_matplotlib\n",
    "from geopyspark.geotrellis.tms import TMS\n",
    "from geonotebook.wrappers import TMSRasterData\n",
    "from shapely.geometry import MultiPolygon, shape\n",
    "from shapely.ops import transform\n",
    "import geopyspark as gps\n",
    "import geopandas as gpd\n",
    "import fiona"
   ]
  },
  {
   "cell_type": "code",
   "execution_count": 52,
   "metadata": {
    "collapsed": true
   },
   "outputs": [],
   "source": [
    "from overlay.data import data, mask"
   ]
  },
  {
   "cell_type": "markdown",
   "metadata": {},
   "source": [
    "### config spark"
   ]
  },
  {
   "cell_type": "code",
   "execution_count": 5,
   "metadata": {
    "collapsed": true
   },
   "outputs": [],
   "source": [
    "conf=gps.geopyspark_conf(appName=\"ClimateOverlay\")\n",
    "conf.set('spark.master.memory', '9500M')\n",
    "sc = SparkContext(conf = conf)"
   ]
  },
  {
   "cell_type": "markdown",
   "metadata": {},
   "source": [
    "# subsetting inundation raster"
   ]
  },
  {
   "cell_type": "code",
   "execution_count": 6,
   "metadata": {
    "collapsed": true
   },
   "outputs": [],
   "source": [
    "# polygon mask\n",
    "msas = gpd.read_file('/home/hadoop/notebooks/data/Boundaries/tl_2015_us_cbsa.shp')\n",
    "nola = msas[msas['NAME'].str.contains('New Orleans', case = False)]"
   ]
  },
  {
   "cell_type": "code",
   "execution_count": 7,
   "metadata": {
    "collapsed": true
   },
   "outputs": [],
   "source": [
    "# clip raster\n",
    "fulltiff = '/home/hadoop/notebooks/data/US_SLOSH_MOM_Inundation_v2/US_Category5_MOM_Inundation_HighTide.tif'\n",
    "mask.clipRasterFromGDF(fulltiff, nola, '/tmp/nola.tif')"
   ]
  },
  {
   "cell_type": "markdown",
   "metadata": {},
   "source": [
    "# visualizing inundation raster"
   ]
  },
  {
   "cell_type": "code",
   "execution_count": 8,
   "metadata": {
    "collapsed": true,
    "scrolled": true
   },
   "outputs": [],
   "source": [
    "inund = gps.geotiff.get(\n",
    "    layer_type='spatial', \n",
    "    uri='/tmp/nola.tif')"
   ]
  },
  {
   "cell_type": "code",
   "execution_count": 9,
   "metadata": {
    "collapsed": true
   },
   "outputs": [],
   "source": [
    "inund_tiled = inund.tile_to_layout(\n",
    "    layout=gps.GlobalLayout(), \n",
    "    target_crs=3857)\n",
    "inund_pyramided = inund_tiled.pyramid().cache()"
   ]
  },
  {
   "cell_type": "code",
   "execution_count": 11,
   "metadata": {
    "collapsed": true,
    "scrolled": false
   },
   "outputs": [],
   "source": [
    "inund_histo         = inund_pyramided.get_histogram()\n",
    "inund_colors        = get_colors_from_matplotlib('viridis', 100)\n",
    "inund_color_map     = gps.ColorMap.from_histogram(inund_histo, inund_colors)"
   ]
  },
  {
   "cell_type": "code",
   "execution_count": 12,
   "metadata": {
    "collapsed": true
   },
   "outputs": [],
   "source": [
    "inund_tms = gps.TMS.build(inund_pyramided, inund_color_map)"
   ]
  },
  {
   "cell_type": "code",
   "execution_count": 81,
   "metadata": {
    "scrolled": true
   },
   "outputs": [
    {
     "data": {
      "text/plain": [
       "<promise.promise.Promise at 0x7f286c35a358>"
      ]
     },
     "execution_count": 81,
     "metadata": {},
     "output_type": "execute_result"
    }
   ],
   "source": [
    "M.set_center(-95.9617495,29.8159954, 9)"
   ]
  },
  {
   "cell_type": "code",
   "execution_count": 83,
   "metadata": {},
   "outputs": [
    {
     "data": {
      "text/plain": [
       "<promise.promise.Promise at 0x7f286c16ab70>"
      ]
     },
     "execution_count": 83,
     "metadata": {},
     "output_type": "execute_result"
    }
   ],
   "source": [
    "M.add_layer(TMSRasterData(inund_tms))"
   ]
  },
  {
   "cell_type": "markdown",
   "metadata": {
    "collapsed": true
   },
   "source": [
    "### sea level rise"
   ]
  },
  {
   "cell_type": "code",
   "execution_count": 18,
   "metadata": {
    "collapsed": true
   },
   "outputs": [],
   "source": [
    "# download and unzip sea level rise polygons\n",
    "u = \"https://coast.noaa.gov/htdata/Inundation/SLR/SLRdata/LA/LA_3_slr_data_dist.zip\"\n",
    "f = \"/tmp/slr.zip\"\n",
    "data.sea_level_rise(u, f)"
   ]
  },
  {
   "cell_type": "code",
   "execution_count": 84,
   "metadata": {},
   "outputs": [
    {
     "name": "stdout",
     "output_type": "stream",
     "text": [
      "Help on function open in module fiona:\n",
      "\n",
      "open(path, mode='r', driver=None, schema=None, crs=None, encoding=None, layer=None, vfs=None, enabled_drivers=None, crs_wkt=None)\n",
      "    Open file at ``path`` in ``mode`` \"r\" (read), \"a\" (append), or\n",
      "    \"w\" (write) and return a ``Collection`` object.\n",
      "    \n",
      "    In write mode, a driver name such as \"ESRI Shapefile\" or \"GPX\" (see\n",
      "    OGR docs or ``ogr2ogr --help`` on the command line) and a schema\n",
      "    mapping such as:\n",
      "    \n",
      "      {'geometry': 'Point',\n",
      "       'properties': [('class', 'int'), ('label', 'str'),\n",
      "                      ('value', 'float')]}\n",
      "    \n",
      "    must be provided. If a particular ordering of properties (\"fields\"\n",
      "    in GIS parlance) in the written file is desired, a list of (key,\n",
      "    value) pairs as above or an ordered dict is required. If no ordering\n",
      "    is needed, a standard dict will suffice.\n",
      "    \n",
      "    A coordinate reference system for collections in write mode can be\n",
      "    defined by the ``crs`` parameter. It takes Proj4 style mappings like\n",
      "    \n",
      "      {'proj': 'longlat', 'ellps': 'WGS84', 'datum': 'WGS84',\n",
      "       'no_defs': True}\n",
      "    \n",
      "    short hand strings like\n",
      "    \n",
      "      EPSG:4326\n",
      "    \n",
      "    or WKT representations of coordinate reference systems.\n",
      "    \n",
      "    The drivers used by Fiona will try to detect the encoding of data\n",
      "    files. If they fail, you may provide the proper ``encoding``, such\n",
      "    as 'Windows-1252' for the Natural Earth datasets.\n",
      "    \n",
      "    When the provided path is to a file containing multiple named layers\n",
      "    of data, a layer can be singled out by ``layer``.\n",
      "    \n",
      "    A virtual filesystem can be specified. The ``vfs`` parameter may be\n",
      "    an Apache Commons VFS style string beginning with \"zip://\" or\n",
      "    \"tar://\"\". In this case, the ``path`` must be an absolute path\n",
      "    within that container.\n",
      "    \n",
      "    The drivers enabled for opening datasets may be restricted to those\n",
      "    listed in the ``enabled_drivers`` parameter. This and the ``driver``\n",
      "    parameter afford much control over opening of files.\n",
      "    \n",
      "      # Trying only the GeoJSON driver when opening to read, the\n",
      "      # following raises ``DataIOError``:\n",
      "      fiona.open('example.shp', driver='GeoJSON')\n",
      "    \n",
      "      # Trying first the GeoJSON driver, then the Shapefile driver,\n",
      "      # the following succeeds:\n",
      "      fiona.open(\n",
      "          'example.shp', enabled_drivers=['GeoJSON', 'ESRI Shapefile'])\n",
      "\n"
     ]
    }
   ],
   "source": [
    "help(fiona.open)"
   ]
  },
  {
   "cell_type": "code",
   "execution_count": 49,
   "metadata": {
    "scrolled": true
   },
   "outputs": [],
   "source": [
    "# for i, name in enumerate (fiona.listlayers(sourceDatabaseFile)):\n",
    "#     with fiona.open(sourceDatabaseFile, layer=1) as gdb:\n",
    "#         print(\"Current layer's [\", name, \"] feature count is: \", len(gdb))"
   ]
  },
  {
   "cell_type": "code",
   "execution_count": 40,
   "metadata": {},
   "outputs": [],
   "source": [
    "t = fiona.open(sourceDatabaseFile, layer=1)"
   ]
  },
  {
   "cell_type": "code",
   "execution_count": 45,
   "metadata": {},
   "outputs": [],
   "source": [
    "gdb = '/tmp/slr/LA_3_slr_final_dist_polys.gdb'\n",
    "with fiona.open(gdb, layer=1) as source:\n",
    "    slr_crs = source.crs['init']\n",
    "    slr = [MultiPolygon(shape(poly['geometry'])) for poly in source]"
   ]
  },
  {
   "cell_type": "code",
   "execution_count": 71,
   "metadata": {
    "scrolled": true
   },
   "outputs": [],
   "source": [
    "def create_partial_reprojection_func(crs):\n",
    "    return partial(pyproj.transform,\n",
    "                   pyproj.Proj(init=crs),\n",
    "                   pyproj.Proj(init='epsg:3857'))\n",
    "\n",
    "reprojected_slr = [transform(create_partial_reprojection_func(slr_crs), s) for s in slr]"
   ]
  },
  {
   "cell_type": "code",
   "execution_count": 72,
   "metadata": {
    "collapsed": true
   },
   "outputs": [],
   "source": [
    "# Rasterize slr polygons\n",
    "rasterize_options = gps.RasterizerOptions(\n",
    "    includePartial=True, sampleType='PixelIsArea')\n",
    "\n",
    "slr_raster = gps.rasterize(\n",
    "    geoms=reprojected_slr,\n",
    "    crs=\"EPSG:3857\",\n",
    "    zoom=12,\n",
    "    fill_value=1,\n",
    "    cell_type=gps.CellType.FLOAT32,\n",
    "    options=rasterize_options,\n",
    "    num_partitions=50)\n",
    "\n",
    "slr_pyramid = slr_raster.pyramid()"
   ]
  },
  {
   "cell_type": "code",
   "execution_count": 73,
   "metadata": {},
   "outputs": [],
   "source": [
    "slr_histo         = slr_pyramid.get_histogram()\n",
    "slr_colors        = get_colors_from_matplotlib('viridis', 100)\n",
    "slr_color_map     = gps.ColorMap.from_histogram(slr_histo, slr_colors)"
   ]
  },
  {
   "cell_type": "code",
   "execution_count": 74,
   "metadata": {
    "collapsed": true
   },
   "outputs": [],
   "source": [
    "slr_tms = gps.TMS.build(slr_pyramid, slr_color_map)"
   ]
  }
 ],
 "metadata": {
  "kernelspec": {
   "display_name": "GeoNotebook + GeoPySpark",
   "language": "python",
   "name": "geonotebook3"
  },
  "language_info": {
   "codemirror_mode": {
    "name": "ipython",
    "version": 3
   },
   "file_extension": ".py",
   "mimetype": "text/x-python",
   "name": "python",
   "nbconvert_exporter": "python",
   "pygments_lexer": "ipython3",
   "version": "3.4.3"
  }
 },
 "nbformat": 4,
 "nbformat_minor": 2
}
