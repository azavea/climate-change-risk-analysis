{
 "cells": [
  {
   "cell_type": "markdown",
   "metadata": {},
   "source": [
    "# Setup"
   ]
  },
  {
   "cell_type": "markdown",
   "metadata": {},
   "source": [
    "### additional dependencies/configuration"
   ]
  },
  {
   "cell_type": "code",
   "execution_count": null,
   "metadata": {
    "collapsed": true
   },
   "outputs": [],
   "source": [
    "!pip install geopandas --user -q"
   ]
  },
  {
   "cell_type": "markdown",
   "metadata": {},
   "source": [
    "### modules"
   ]
  },
  {
   "cell_type": "code",
   "execution_count": 1,
   "metadata": {
    "collapsed": true
   },
   "outputs": [],
   "source": [
    "from functools import partial\n",
    "import pyproj\n",
    "from pyspark import SparkContext\n",
    "from geopyspark.geotrellis.color import ColorMap, get_colors_from_matplotlib\n",
    "from geopyspark.geotrellis.tms import TMS\n",
    "from geonotebook.wrappers import TMSRasterData\n",
    "from shapely.geometry import MultiPolygon, shape\n",
    "from shapely.ops import transform\n",
    "import geopyspark as gps\n",
    "import geopandas as gpd\n",
    "import fiona"
   ]
  },
  {
   "cell_type": "code",
   "execution_count": 2,
   "metadata": {},
   "outputs": [],
   "source": [
    "from overlay.data import data, mask\n",
    "from overlay import analysis as an"
   ]
  },
  {
   "cell_type": "markdown",
   "metadata": {},
   "source": [
    "### config spark"
   ]
  },
  {
   "cell_type": "code",
   "execution_count": 3,
   "metadata": {},
   "outputs": [],
   "source": [
    "conf=gps.geopyspark_conf(appName=\"ClimateOverlay\")\n",
    "conf.set('spark.master.memory', '1200M')\n",
    "sc = SparkContext(conf = conf)"
   ]
  },
  {
   "cell_type": "markdown",
   "metadata": {},
   "source": [
    "### create overlay context"
   ]
  },
  {
   "cell_type": "code",
   "execution_count": 4,
   "metadata": {
    "collapsed": true
   },
   "outputs": [],
   "source": [
    "hou = an.Overlay('houston')"
   ]
  },
  {
   "cell_type": "code",
   "execution_count": 5,
   "metadata": {
    "collapsed": true
   },
   "outputs": [],
   "source": [
    "hou.set_study_area('/home/hadoop/notebooks/data/read/boundaries/houston.shp')"
   ]
  },
  {
   "cell_type": "code",
   "execution_count": 6,
   "metadata": {},
   "outputs": [
    {
     "data": {
      "text/plain": [
       "<promise.promise.Promise at 0x7facd06aad30>"
      ]
     },
     "execution_count": 6,
     "metadata": {},
     "output_type": "execute_result"
    }
   ],
   "source": [
    "M.set_center(hou.study_area['centroid']['x'], hou.study_area['centroid']['y'], 9)"
   ]
  },
  {
   "cell_type": "markdown",
   "metadata": {},
   "source": [
    "### flood layer"
   ]
  },
  {
   "cell_type": "code",
   "execution_count": 7,
   "metadata": {
    "scrolled": true
   },
   "outputs": [],
   "source": [
    "# clip raster\n",
    "fulltiff = '/home/hadoop/notebooks/data/read/overlay-layers/flood/US_Category5_MOM_Inundation_HighTide.tif'\n",
    "maskedtiff = '/home/hadoop/notebooks/data/write/overlay-layers/flood/houston_flood_category5.tif'\n",
    "mask.maskRasterFromBbox(fulltiff, hou.study_area['bbox'], maskedtiff)"
   ]
  },
  {
   "cell_type": "code",
   "execution_count": 8,
   "metadata": {},
   "outputs": [],
   "source": [
    "hou.layerset_from_tiff(maskedtiff, 'flood')"
   ]
  },
  {
   "cell_type": "code",
   "execution_count": 9,
   "metadata": {},
   "outputs": [
    {
     "data": {
      "text/plain": [
       "<promise.promise.Promise at 0x7facd04c1c50>"
      ]
     },
     "execution_count": 9,
     "metadata": {},
     "output_type": "execute_result"
    }
   ],
   "source": [
    "M.add_layer(hou.layersets['flood'].mappable_layer)"
   ]
  },
  {
   "cell_type": "markdown",
   "metadata": {
    "collapsed": true
   },
   "source": [
    "### sea level rise"
   ]
  },
  {
   "cell_type": "code",
   "execution_count": 10,
   "metadata": {},
   "outputs": [],
   "source": [
    "# download and unzip sea level rise polygons\n",
    "u = \"https://coast.noaa.gov/htdata/Inundation/SLR/SLRdata/LA/LA_3_slr_data_dist.zip\"\n",
    "d = \"/home/hadoop/notebooks/data/write/overlay-layers/sea-level-rise/\"\n",
    "# data.zip_to_dir(u, d)"
   ]
  },
  {
   "cell_type": "code",
   "execution_count": 11,
   "metadata": {
    "collapsed": true
   },
   "outputs": [],
   "source": [
    "# locate .gdb file\n",
    "gdb = \"/home/hadoop/notebooks/data/write/overlay-layers/sea-level-rise/LA_3_slr_data_dist/LA_3_slr_final_dist_polys.gdb/\""
   ]
  },
  {
   "cell_type": "code",
   "execution_count": 12,
   "metadata": {
    "scrolled": false
   },
   "outputs": [],
   "source": [
    "tt = data.read_from_gdb(gdb, 1, MultiPolygon)"
   ]
  },
  {
   "cell_type": "code",
   "execution_count": null,
   "metadata": {},
   "outputs": [],
   "source": [
    "hou.layerset_from_poly(tt, 1, 'sea_level', 'plasma', 1)"
   ]
  }
 ],
 "metadata": {
  "kernelspec": {
   "display_name": "GeoNotebook + GeoPySpark",
   "language": "python",
   "name": "geonotebook3"
  },
  "language_info": {
   "codemirror_mode": {
    "name": "ipython",
    "version": 3
   },
   "file_extension": ".py",
   "mimetype": "text/x-python",
   "name": "python",
   "nbconvert_exporter": "python",
   "pygments_lexer": "ipython3",
   "version": "3.4.3"
  }
 },
 "nbformat": 4,
 "nbformat_minor": 2
}
