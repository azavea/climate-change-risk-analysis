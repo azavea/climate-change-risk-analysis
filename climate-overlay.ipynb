{
 "cells": [
  {
   "cell_type": "markdown",
   "metadata": {},
   "source": [
    "# Setup"
   ]
  },
  {
   "cell_type": "markdown",
   "metadata": {},
   "source": [
    "### additional dependencies/configuration"
   ]
  },
  {
   "cell_type": "code",
   "execution_count": 1,
   "metadata": {
    "collapsed": true
   },
   "outputs": [],
   "source": [
    "!pip install geopandas --user -q"
   ]
  },
  {
   "cell_type": "markdown",
   "metadata": {},
   "source": [
    "### modules"
   ]
  },
  {
   "cell_type": "code",
   "execution_count": 2,
   "metadata": {
    "collapsed": true
   },
   "outputs": [],
   "source": [
    "# import pyproj\n",
    "# import geopyspark as gps\n",
    "# import geopandas as gpd\n",
    "# import fiona\n",
    "\n",
    "# from functools import partial\n",
    "# from pyspark import SparkContext\n",
    "# from geopyspark.geotrellis.color import ColorMap, get_colors_from_matplotlib\n",
    "# from geopyspark.geotrellis.tms import TMS\n",
    "from geonotebook.wrappers import TMSRasterData\n",
    "from shapely.geometry import MultiPolygon, Polygon, shape\n",
    "# from shapely.ops import transform"
   ]
  },
  {
   "cell_type": "code",
   "execution_count": 3,
   "metadata": {
    "collapsed": true
   },
   "outputs": [],
   "source": [
    "import geopyspark as gps\n",
    "from pyspark import SparkContext\n",
    "\n",
    "\n",
    "from overlay.data import data, mask\n",
    "from overlay import analysis as an"
   ]
  },
  {
   "cell_type": "markdown",
   "metadata": {},
   "source": [
    "### config spark"
   ]
  },
  {
   "cell_type": "code",
   "execution_count": 4,
   "metadata": {
    "collapsed": true
   },
   "outputs": [],
   "source": [
    "conf=gps.geopyspark_conf(appName=\"ClimateOverlay\")\n",
    "conf.set('spark.master.memory', '8G')\n",
    "conf.set('spark.ui.enabled', True)\n",
    "sc = SparkContext(conf = conf)"
   ]
  },
  {
   "cell_type": "markdown",
   "metadata": {},
   "source": [
    "### create overlay context"
   ]
  },
  {
   "cell_type": "code",
   "execution_count": 5,
   "metadata": {
    "collapsed": true
   },
   "outputs": [],
   "source": [
    "hou = an.Overlay('houston')"
   ]
  },
  {
   "cell_type": "code",
   "execution_count": 6,
   "metadata": {
    "collapsed": true
   },
   "outputs": [],
   "source": [
    "hou.set_study_area('/home/hadoop/notebooks/data/read/boundaries/houston.shp')"
   ]
  },
  {
   "cell_type": "code",
   "execution_count": 7,
   "metadata": {},
   "outputs": [
    {
     "data": {
      "text/plain": [
       "<promise.promise.Promise at 0x7f59a2bc08d0>"
      ]
     },
     "execution_count": 7,
     "metadata": {},
     "output_type": "execute_result"
    }
   ],
   "source": [
    "M.set_center(hou.study_area['centroid']['x'], hou.study_area['centroid']['y'], 9)"
   ]
  },
  {
   "cell_type": "code",
   "execution_count": 8,
   "metadata": {
    "collapsed": true
   },
   "outputs": [],
   "source": [
    "hou.study_area['base_raster'].construct_map_layer()"
   ]
  },
  {
   "cell_type": "code",
   "execution_count": 9,
   "metadata": {
    "scrolled": true
   },
   "outputs": [
    {
     "data": {
      "text/plain": [
       "<promise.promise.Promise at 0x7f59a238bb38>"
      ]
     },
     "execution_count": 9,
     "metadata": {},
     "output_type": "execute_result"
    }
   ],
   "source": [
    "M.add_layer(hou.study_area['base_raster'].mappable_layer)"
   ]
  },
  {
   "cell_type": "markdown",
   "metadata": {},
   "source": [
    "### sea level rise"
   ]
  },
  {
   "cell_type": "code",
   "execution_count": 10,
   "metadata": {
    "collapsed": true
   },
   "outputs": [],
   "source": [
    "# download and unzip sea level rise polygons\n",
    "u = 'https://coast.noaa.gov/htdata/Inundation/SLR/SLRdata/TX/TX_HGX_slr_data_dist.zip'\n",
    "d = \"/home/hadoop/notebooks/data/read/overlay-layers/sea-level-rise/\"\n",
    "# data.zip_to_dir(u, d)"
   ]
  },
  {
   "cell_type": "code",
   "execution_count": 11,
   "metadata": {
    "collapsed": true
   },
   "outputs": [],
   "source": [
    "# gdb\n",
    "gdb = \"/home/hadoop/notebooks/data/read/overlay-layers/sea-level-rise/TX_HGX_slr_data_dist/TX_HGX_slr_final_dist.gdb\""
   ]
  },
  {
   "cell_type": "code",
   "execution_count": 12,
   "metadata": {
    "scrolled": false
   },
   "outputs": [
    {
     "name": "stdout",
     "output_type": "stream",
     "text": [
      "Had to open data source read-only.\r\n",
      "INFO: Open of `/home/hadoop/notebooks/data/read/overlay-layers/sea-level-rise/TX_HGX_slr_data_dist/TX_HGX_slr_final_dist.gdb/'\r\n",
      "      using driver `OpenFileGDB' successful.\r\n",
      "1: TX_HGX_low_0ft (Multi Polygon)\r\n",
      "2: TX_HGX_low_1ft (Multi Polygon)\r\n",
      "3: TX_HGX_low_2ft (Multi Polygon)\r\n",
      "4: TX_HGX_low_3ft (Multi Polygon)\r\n",
      "5: TX_HGX_low_4ft (Multi Polygon)\r\n",
      "6: TX_HGX_low_5ft (Multi Polygon)\r\n",
      "7: TX_HGX_low_6ft (Multi Polygon)\r\n",
      "8: TX_HGX_slr_0ft (Multi Polygon)\r\n",
      "9: TX_HGX_slr_1ft (Multi Polygon)\r\n",
      "10: TX_HGX_slr_2ft (Multi Polygon)\r\n",
      "11: TX_HGX_slr_3ft (Multi Polygon)\r\n",
      "12: TX_HGX_slr_4ft (Multi Polygon)\r\n",
      "13: TX_HGX_slr_5ft (Multi Polygon)\r\n",
      "14: TX_HGX_slr_6ft (Multi Polygon)\r\n"
     ]
    }
   ],
   "source": [
    "# replace with unquoted filepath to gdb in order to see layers\n",
    "!ogrinfo /home/hadoop/notebooks/data/read/overlay-layers/sea-level-rise/TX_HGX_slr_data_dist/TX_HGX_slr_final_dist.gdb/"
   ]
  },
  {
   "cell_type": "code",
   "execution_count": 13,
   "metadata": {
    "collapsed": true,
    "scrolled": false
   },
   "outputs": [],
   "source": [
    "hou.layersets['sea_level'] = an.LayerSet(an.build_tiled_from_multi_slr(gdb, hou))"
   ]
  },
  {
   "cell_type": "code",
   "execution_count": 13,
   "metadata": {
    "scrolled": false
   },
   "outputs": [
    {
     "data": {
      "text/plain": [
       "<promise.promise.Promise at 0x7f4140ad4b70>"
      ]
     },
     "execution_count": 13,
     "metadata": {},
     "output_type": "execute_result"
    }
   ],
   "source": [
    "M.add_layer(hou.layersets['sea_level'].mappable_layer)"
   ]
  },
  {
   "cell_type": "code",
   "execution_count": 14,
   "metadata": {
    "collapsed": true
   },
   "outputs": [],
   "source": [
    "for l in M.layers:\n",
    "    M.remove_layer(l)"
   ]
  },
  {
   "cell_type": "markdown",
   "metadata": {},
   "source": [
    "### storm surge"
   ]
  },
  {
   "cell_type": "code",
   "execution_count": 37,
   "metadata": {
    "collapsed": true,
    "scrolled": true
   },
   "outputs": [],
   "source": [
    "# clip raster\n",
    "fulltiff = '/home/hadoop/notebooks/data/read/overlay-layers/storm-surge/US_Category5_MOM_Inundation_HighTide.tif'\n",
    "maskedtiff = '/home/hadoop/notebooks/data/write/overlay-layers/storm-surge/houston_flood_category5.tif'\n",
    "# mask.maskRasterFromBbox(fulltiff, hou.study_area['bbox'], maskedtiff)"
   ]
  },
  {
   "cell_type": "code",
   "execution_count": 38,
   "metadata": {
    "collapsed": true,
    "scrolled": true
   },
   "outputs": [],
   "source": [
    "# construct a layerset from a tiff\n",
    "hou.build_layerset('tiff', 'storm_surge', tiff = maskedtiff)"
   ]
  },
  {
   "cell_type": "code",
   "execution_count": 39,
   "metadata": {
    "collapsed": true
   },
   "outputs": [],
   "source": [
    "hou.layersets['storm_surge'].tiled = hou.layersets['storm_surge'].tiled.convert_data_type(gps.CellType.UINT8, 0).repartition(256) "
   ]
  },
  {
   "cell_type": "code",
   "execution_count": 56,
   "metadata": {
    "collapsed": true
   },
   "outputs": [],
   "source": [
    "hou.layersets['storm_surge'].construct_map_layer()"
   ]
  },
  {
   "cell_type": "code",
   "execution_count": 57,
   "metadata": {
    "scrolled": false
   },
   "outputs": [
    {
     "data": {
      "text/plain": [
       "<promise.promise.Promise at 0x7f413f705cc0>"
      ]
     },
     "execution_count": 57,
     "metadata": {},
     "output_type": "execute_result"
    }
   ],
   "source": [
    "# storm surge layer to the map\n",
    "M.add_layer(hou.layersets['storm_surge'].mappable_layer)"
   ]
  },
  {
   "cell_type": "markdown",
   "metadata": {},
   "source": [
    "### flood"
   ]
  },
  {
   "cell_type": "code",
   "execution_count": 10,
   "metadata": {
    "collapsed": true
   },
   "outputs": [],
   "source": [
    "# output_shp = '/home/hadoop/notebooks/data/write/overlay-layers/flood/houston_storm_surge.shp'\n",
    "input_shp = '/home/hadoop/notebooks/data/read/overlay-layers/flood/Fld_Haz_ar_webmer.shp'"
   ]
  },
  {
   "cell_type": "code",
   "execution_count": 11,
   "metadata": {
    "collapsed": true
   },
   "outputs": [],
   "source": [
    "clipped_shp = mask.clip_vector_to_boundaries(input_shp, hou)"
   ]
  },
  {
   "cell_type": "code",
   "execution_count": 13,
   "metadata": {},
   "outputs": [
    {
     "data": {
      "text/plain": [
       "'/home/hadoop/notebooks/data/write/overlay-layers/flood/Fld_Haz_ar_webmer_houston.shp'"
      ]
     },
     "execution_count": 13,
     "metadata": {},
     "output_type": "execute_result"
    }
   ],
   "source": [
    "clipped_shp"
   ]
  },
  {
   "cell_type": "code",
   "execution_count": 13,
   "metadata": {
    "collapsed": true,
    "scrolled": true
   },
   "outputs": [],
   "source": [
    "# import geopandas as gpd\n",
    "ct = data.read_from_shp(clipped_shp)"
   ]
  },
  {
   "cell_type": "code",
   "execution_count": 14,
   "metadata": {
    "collapsed": true
   },
   "outputs": [],
   "source": [
    "hou.build_layerset('polygon', 'flood', polygons = ct, pixel_value = 1)"
   ]
  },
  {
   "cell_type": "code",
   "execution_count": null,
   "metadata": {
    "collapsed": true,
    "scrolled": true
   },
   "outputs": [],
   "source": [
    "M.add_layer(hou.layersets['flood'].mappable_layer)"
   ]
  },
  {
   "cell_type": "markdown",
   "metadata": {},
   "source": [
    "### Union experiment (remove)"
   ]
  },
  {
   "cell_type": "markdown",
   "metadata": {},
   "source": [
    "functions"
   ]
  },
  {
   "cell_type": "code",
   "execution_count": 16,
   "metadata": {
    "collapsed": true
   },
   "outputs": [],
   "source": [
    "def get_cm(breaks, colors=[0xD28170FF, 0x526095FF]):\n",
    "    return gps.ColorMap.build(breaks=breaks, colors=[0xD28170FF, 0x526095FF])\n",
    "\n",
    "\n",
    "def get_mappable(pyr, cm):\n",
    "    return gps.TMS.build(source=pyr, display=cm)\n",
    "\n",
    "\n",
    "def mapp(M, pyr, cm):\n",
    "    for l in M.layers:\n",
    "        M.remove_layer(l)\n",
    "    mp = get_mappable(pyr, cm)\n",
    "    M.add_layer(TMSRasterData(mp))\n",
    "\n",
    "rasterize_options = gps.RasterizerOptions(includePartial=True, \n",
    "                                          sampleType='PixelIsArea')"
   ]
  },
  {
   "cell_type": "markdown",
   "metadata": {},
   "source": [
    "##### boundary"
   ]
  },
  {
   "cell_type": "code",
   "execution_count": 24,
   "metadata": {
    "collapsed": true
   },
   "outputs": [],
   "source": [
    "bounding = hou.study_area['geom']"
   ]
  },
  {
   "cell_type": "code",
   "execution_count": 25,
   "metadata": {
    "collapsed": true
   },
   "outputs": [],
   "source": [
    "# rasterize bounding\n",
    "bd = gps.rasterize(geoms=bounding,\n",
    "                   crs=\"EPSG:3857\",\n",
    "                   zoom=12,\n",
    "                   fill_value=1,\n",
    "                   cell_type=gps.CellType.FLOAT32,\n",
    "                   options=rasterize_options,\n",
    "                   num_partitions=50)"
   ]
  },
  {
   "cell_type": "code",
   "execution_count": 26,
   "metadata": {
    "collapsed": true
   },
   "outputs": [],
   "source": [
    "# reclassify bounding\n",
    "bd_r = bd.reclassify(value_map={1:1}, data_type=int, replace_nodata_with=1)"
   ]
  },
  {
   "cell_type": "code",
   "execution_count": 27,
   "metadata": {
    "collapsed": true
   },
   "outputs": [],
   "source": [
    "# pyramid bounding\n",
    "bd_p = bd_r.pyramid()"
   ]
  },
  {
   "cell_type": "code",
   "execution_count": 28,
   "metadata": {
    "collapsed": true
   },
   "outputs": [],
   "source": [
    "# histogram bounding\n",
    "bd_h = bd_p.get_histogram()"
   ]
  },
  {
   "cell_type": "code",
   "execution_count": 29,
   "metadata": {},
   "outputs": [
    {
     "data": {
      "text/plain": [
       "[(1.0, 26083328)]"
      ]
     },
     "execution_count": 29,
     "metadata": {},
     "output_type": "execute_result"
    }
   ],
   "source": [
    "# bin counts\n",
    "bd_h.bin_counts()"
   ]
  },
  {
   "cell_type": "code",
   "execution_count": 30,
   "metadata": {
    "collapsed": true,
    "scrolled": true
   },
   "outputs": [],
   "source": [
    "color_map = get_cm([2, 1])\n",
    "mapp(M, bd_p, color_map)"
   ]
  },
  {
   "cell_type": "markdown",
   "metadata": {},
   "source": [
    "##### sea level rise"
   ]
  },
  {
   "cell_type": "code",
   "execution_count": 14,
   "metadata": {
    "collapsed": true,
    "scrolled": false
   },
   "outputs": [],
   "source": [
    "sea_level_1 = data.read_from_gdb(gdb, 'TX_HGX_slr_1ft', MultiPolygon)"
   ]
  },
  {
   "cell_type": "code",
   "execution_count": 17,
   "metadata": {
    "collapsed": true
   },
   "outputs": [],
   "source": [
    "# rasterize bounding\n",
    "sl = gps.rasterize(geoms=sea_level_1,\n",
    "                   crs=\"EPSG:3857\",\n",
    "                   zoom=12,\n",
    "                   fill_value=2,\n",
    "                   cell_type=gps.CellType.FLOAT32,\n",
    "                   options=rasterize_options,\n",
    "                   num_partitions=50)"
   ]
  },
  {
   "cell_type": "code",
   "execution_count": 18,
   "metadata": {
    "collapsed": true
   },
   "outputs": [],
   "source": [
    "# reclassify bounding (from jake)\n",
    "# sl_r = sl.srdd.reclassify({2:2}, gps.geotrellis.constants.ClassificationStrategy.EXACT.value, 0)\n",
    "# sl_r = gps.TiledRasterLayer(srdd=sl_r, layer_type=sl.layer_type)"
   ]
  },
  {
   "cell_type": "code",
   "execution_count": 19,
   "metadata": {
    "collapsed": true
   },
   "outputs": [],
   "source": [
    "sl_r = sl.reclassify(value_map={2:2}, data_type=int, replace_nodata_with=1)"
   ]
  },
  {
   "cell_type": "code",
   "execution_count": 20,
   "metadata": {},
   "outputs": [
    {
     "data": {
      "text/plain": [
       "[(1.0, 4501018), (2.0, 33638296)]"
      ]
     },
     "execution_count": 20,
     "metadata": {},
     "output_type": "execute_result"
    }
   ],
   "source": [
    "# pyramid bounding\n",
    "sl_p = sl_r.pyramid()\n",
    "# histogram bounding\n",
    "sl_h = sl_p.get_histogram()\n",
    "# bin counts\n",
    "sl_h.bin_counts()"
   ]
  },
  {
   "cell_type": "code",
   "execution_count": 21,
   "metadata": {
    "collapsed": true
   },
   "outputs": [],
   "source": [
    "color_map = get_cm(breaks=[1, 2])\n",
    "mapp(M, sl_p, color_map)"
   ]
  },
  {
   "cell_type": "markdown",
   "metadata": {},
   "source": [
    "##### union"
   ]
  },
  {
   "cell_type": "code",
   "execution_count": 22,
   "metadata": {},
   "outputs": [
    {
     "ename": "NameError",
     "evalue": "name 'bd_r' is not defined",
     "output_type": "error",
     "traceback": [
      "\u001b[0;31m---------------------------------------------------------------------------\u001b[0m",
      "\u001b[0;31mNameError\u001b[0m                                 Traceback (most recent call last)",
      "\u001b[0;32m<ipython-input-22-90d58a67013f>\u001b[0m in \u001b[0;36m<module>\u001b[0;34m()\u001b[0m\n\u001b[0;32m----> 1\u001b[0;31m \u001b[0mu\u001b[0m \u001b[0;34m=\u001b[0m \u001b[0mgps\u001b[0m\u001b[0;34m.\u001b[0m\u001b[0mgeotrellis\u001b[0m\u001b[0;34m.\u001b[0m\u001b[0munion\u001b[0m\u001b[0;34m(\u001b[0m\u001b[0mlayers\u001b[0m\u001b[0;34m=\u001b[0m\u001b[0;34m[\u001b[0m\u001b[0mbd_r\u001b[0m\u001b[0;34m,\u001b[0m \u001b[0msl_r\u001b[0m\u001b[0;34m]\u001b[0m\u001b[0;34m)\u001b[0m\u001b[0;34m\u001b[0m\u001b[0m\n\u001b[0m\u001b[1;32m      2\u001b[0m \u001b[0mu_h\u001b[0m \u001b[0;34m=\u001b[0m \u001b[0mu\u001b[0m\u001b[0;34m.\u001b[0m\u001b[0mget_histogram\u001b[0m\u001b[0;34m(\u001b[0m\u001b[0;34m)\u001b[0m\u001b[0;34m\u001b[0m\u001b[0m\n",
      "\u001b[0;31mNameError\u001b[0m: name 'bd_r' is not defined"
     ]
    }
   ],
   "source": [
    "u = gps.geotrellis.union(layers=[bd_r, sl_r])\n",
    "u_h = u.get_histogram()"
   ]
  },
  {
   "cell_type": "code",
   "execution_count": 23,
   "metadata": {},
   "outputs": [
    {
     "ename": "NameError",
     "evalue": "name 'u_h' is not defined",
     "output_type": "error",
     "traceback": [
      "\u001b[0;31m---------------------------------------------------------------------------\u001b[0m",
      "\u001b[0;31mNameError\u001b[0m                                 Traceback (most recent call last)",
      "\u001b[0;32m<ipython-input-23-94861ae86489>\u001b[0m in \u001b[0;36m<module>\u001b[0;34m()\u001b[0m\n\u001b[0;32m----> 1\u001b[0;31m \u001b[0mu_h\u001b[0m\u001b[0;34m.\u001b[0m\u001b[0mbin_counts\u001b[0m\u001b[0;34m(\u001b[0m\u001b[0;34m)\u001b[0m\u001b[0;34m\u001b[0m\u001b[0m\n\u001b[0m",
      "\u001b[0;31mNameError\u001b[0m: name 'u_h' is not defined"
     ]
    }
   ],
   "source": [
    "u_h.bin_counts()"
   ]
  },
  {
   "cell_type": "code",
   "execution_count": 31,
   "metadata": {
    "collapsed": true
   },
   "outputs": [],
   "source": [
    "u_p = u.pyramid()\n",
    "color_map = get_cm([2, 1])\n",
    "mapp(M, u_p, color_map)"
   ]
  },
  {
   "cell_type": "markdown",
   "metadata": {},
   "source": [
    "##### aggregate"
   ]
  },
  {
   "cell_type": "code",
   "execution_count": 32,
   "metadata": {},
   "outputs": [
    {
     "data": {
      "text/plain": [
       "[(1.0, 4501018), (2.0, 105990040)]"
      ]
     },
     "execution_count": 32,
     "metadata": {},
     "output_type": "execute_result"
    }
   ],
   "source": [
    "ag = u.aggregate_by_cell(operation=gps.geotrellis.constants.Operation.MAX)\n",
    "ag_h = ag.get_histogram()\n",
    "ag_h.bin_counts()"
   ]
  },
  {
   "cell_type": "code",
   "execution_count": 33,
   "metadata": {
    "collapsed": true
   },
   "outputs": [],
   "source": [
    "ag_p = ag.pyramid()\n",
    "color_map = get_cm(breaks=[2, 1])\n",
    "mapp(M, ag_p, color_map)"
   ]
  },
  {
   "cell_type": "markdown",
   "metadata": {},
   "source": [
    "##### Mask"
   ]
  },
  {
   "cell_type": "code",
   "execution_count": 34,
   "metadata": {},
   "outputs": [
    {
     "data": {
      "text/plain": [
       "[(1.0, 2872777), (2.0, 77681336)]"
      ]
     },
     "execution_count": 34,
     "metadata": {},
     "output_type": "execute_result"
    }
   ],
   "source": [
    "agm = ag.mask(list(hou.study_area['geom']))\n",
    "agm_h = agm.get_histogram()\n",
    "agm_h.bin_counts()"
   ]
  },
  {
   "cell_type": "code",
   "execution_count": 35,
   "metadata": {
    "collapsed": true
   },
   "outputs": [],
   "source": [
    "agm_p = agm.pyramid()\n",
    "mapp(M, agm_p, get_cm([2, 1]))"
   ]
  },
  {
   "cell_type": "markdown",
   "metadata": {},
   "source": [
    "##### storm surge"
   ]
  },
  {
   "cell_type": "code",
   "execution_count": 40,
   "metadata": {
    "collapsed": true
   },
   "outputs": [],
   "source": [
    "ss = hou.layersets['storm_surge'].tiled\n",
    "# reclassify bounding\n",
    "ss_r = ss.reclassify(value_map={100: 11, 90: 10, 80: 9, 70: 8, 60: 7, 50: 6, 40: 5, 30: 4, 20: 3, 10: 2},\n",
    "                     data_type=int, replace_nodata_with=1)"
   ]
  },
  {
   "cell_type": "code",
   "execution_count": 41,
   "metadata": {
    "collapsed": true
   },
   "outputs": [],
   "source": [
    "ss_h = ss_r.get_histogram()\n",
    "ss_cm = gps.ColorMap.build(breaks=ss_h, colors='GnBu')\n",
    "ss_p = ss_r.pyramid()\n",
    "mapp(M, ss_p, ss_cm)"
   ]
  },
  {
   "cell_type": "code",
   "execution_count": 42,
   "metadata": {},
   "outputs": [
    {
     "data": {
      "text/plain": [
       "[(1.0, 2351602),\n",
       " (2.0, 57047943),\n",
       " (3.0, 3072771),\n",
       " (4.0, 3059034),\n",
       " (11.0, 3966428)]"
      ]
     },
     "execution_count": 42,
     "metadata": {},
     "output_type": "execute_result"
    }
   ],
   "source": [
    "ss_r = ss_r.tile_to_layout(layout=bd_r.layer_metadata)\n",
    "# I think this is causing a problem\n",
    "uss = gps.geotrellis.union(layers=[bd_r, ss_r])\n",
    "uss_h = uss.get_histogram()\n",
    "uss_h.bin_counts()"
   ]
  },
  {
   "cell_type": "code",
   "execution_count": 43,
   "metadata": {
    "collapsed": true
   },
   "outputs": [],
   "source": [
    "uss_p = uss.pyramid()\n",
    "uss_cm = gps.ColorMap.build(breaks=uss_h, colors='GnBu')\n",
    "mapp(M, uss_p, uss_cm)"
   ]
  },
  {
   "cell_type": "code",
   "execution_count": 44,
   "metadata": {
    "collapsed": true
   },
   "outputs": [],
   "source": [
    "uss_ag = uss.aggregate_by_cell(\n",
    "    operation=gps.geotrellis.constants.Operation.MAX)\n",
    "uss_ag_h = uss_ag.get_histogram()\n",
    "uss_ag_h.bin_counts()\n",
    "uss_ag_p = uss_ag.pyramid()\n",
    "uss_ag_cm = gps.ColorMap.build(breaks=uss_ag_h, colors='GnBu')\n",
    "mapp(M, uss_ag_p, uss_ag_cm)"
   ]
  },
  {
   "cell_type": "code",
   "execution_count": 45,
   "metadata": {
    "collapsed": true
   },
   "outputs": [],
   "source": [
    "uss_agm = uss_ag.mask(list(hou.study_area['geom']))\n",
    "uss_agm_h = uss_agm.get_histogram()\n",
    "uss_agm_h.bin_counts()\n",
    "uss_agm_p = uss_agm.pyramid()\n",
    "uss_agm_cm = gps.ColorMap.build(breaks=uss_agm_h, colors='GnBu')\n",
    "mapp(M, uss_agm_p, uss_agm_cm)"
   ]
  },
  {
   "cell_type": "code",
   "execution_count": 46,
   "metadata": {},
   "outputs": [
    {
     "data": {
      "text/plain": [
       "[(1.0, 1360988),\n",
       " (2.0, 13354231),\n",
       " (3.0, 1885668),\n",
       " (4.0, 1983779),\n",
       " (11.0, 2885740)]"
      ]
     },
     "execution_count": 46,
     "metadata": {},
     "output_type": "execute_result"
    }
   ],
   "source": [
    "uss_agm_h.bin_counts()"
   ]
  },
  {
   "cell_type": "markdown",
   "metadata": {},
   "source": [
    "Test"
   ]
  },
  {
   "cell_type": "code",
   "execution_count": 47,
   "metadata": {
    "collapsed": true
   },
   "outputs": [],
   "source": [
    "test = uss_agm + agm"
   ]
  },
  {
   "cell_type": "code",
   "execution_count": 48,
   "metadata": {
    "collapsed": true
   },
   "outputs": [],
   "source": [
    "test_h = test.get_histogram()"
   ]
  },
  {
   "cell_type": "code",
   "execution_count": 49,
   "metadata": {},
   "outputs": [
    {
     "data": {
      "text/plain": [
       "[(2.0, 3986881),\n",
       " (3.0, 11692302),\n",
       " (4.0, 3270441),\n",
       " (5.0, 1363387),\n",
       " (6.0, 517324),\n",
       " (12.0, 86124),\n",
       " (13.0, 279398)]"
      ]
     },
     "execution_count": 49,
     "metadata": {},
     "output_type": "execute_result"
    }
   ],
   "source": [
    "test_h.bin_counts()"
   ]
  },
  {
   "cell_type": "code",
   "execution_count": 50,
   "metadata": {
    "collapsed": true
   },
   "outputs": [],
   "source": [
    "test_pyr = test.pyramid()"
   ]
  },
  {
   "cell_type": "code",
   "execution_count": 51,
   "metadata": {
    "collapsed": true
   },
   "outputs": [],
   "source": [
    "test_cm = gps.ColorMap.build(breaks=test_h, colors='GnBu')"
   ]
  },
  {
   "cell_type": "code",
   "execution_count": 52,
   "metadata": {
    "collapsed": true
   },
   "outputs": [],
   "source": [
    "mapp(M, test_pyr, test_cm)"
   ]
  }
 ],
 "metadata": {
  "kernelspec": {
   "display_name": "GeoNotebook + GeoPySpark",
   "language": "python",
   "name": "geonotebook3"
  },
  "language_info": {
   "codemirror_mode": {
    "name": "ipython",
    "version": 3
   },
   "file_extension": ".py",
   "mimetype": "text/x-python",
   "name": "python",
   "nbconvert_exporter": "python",
   "pygments_lexer": "ipython3",
   "version": "3.4.3"
  }
 },
 "nbformat": 4,
 "nbformat_minor": 2
}
