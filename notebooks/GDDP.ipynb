{
 "cells": [
  {
   "cell_type": "code",
   "execution_count": null,
   "metadata": {
    "collapsed": true
   },
   "outputs": [],
   "source": [
    "import geopyspark as gps\n",
    "from pyspark import SparkContext\n",
    "from geopyspark.geotrellis.constants import LayerType\n",
    "from geopyspark_netcdf.datasets import Gddp\n",
    "from shapely.geometry import shape"
   ]
  },
  {
   "cell_type": "code",
   "execution_count": null,
   "metadata": {
    "collapsed": true
   },
   "outputs": [],
   "source": [
    "sc = SparkContext(conf=gps.geopyspark_conf(appName=\"Crenshaw Boulevard\"))"
   ]
  },
  {
   "cell_type": "code",
   "execution_count": null,
   "metadata": {
    "collapsed": true
   },
   "outputs": [],
   "source": [
    "uri = \"s3://nasanex/NEX-GDDP/BCSD/rcp85/day/atmos/tasmin/r1i1p1/v1.0/tasmin_day_BCSD_rcp85_r1i1p1_inmcm4_2099.nc\"\n",
    "# uri = \"/tmp/tasmin_day_BCSD_rcp85_r1i1p1_inmcm4_2099.nc\""
   ]
  },
  {
   "cell_type": "code",
   "execution_count": null,
   "metadata": {
    "collapsed": true
   },
   "outputs": [],
   "source": [
    "!curl 'https://raw.githubusercontent.com/jamesmcclain/SlausonAvenue/master/geojson/CA.geo.json' -o /tmp/CA.geo.json"
   ]
  },
  {
   "cell_type": "code",
   "execution_count": null,
   "metadata": {
    "collapsed": true
   },
   "outputs": [],
   "source": [
    "import json\n",
    "import matplotlib.pyplot as plt\n",
    "import numpy as np\n",
    "import scipy.ndimage\n",
    "\n",
    "%matplotlib inline"
   ]
  },
  {
   "cell_type": "code",
   "execution_count": null,
   "metadata": {},
   "outputs": [],
   "source": [
    "geojson = json.loads(open(\"/tmp/CA.geo.json\").read())\n",
    "ca = shape(geojson['features'][0]['geometry'])\n",
    "ca"
   ]
  },
  {
   "cell_type": "code",
   "execution_count": null,
   "metadata": {
    "collapsed": true
   },
   "outputs": [],
   "source": [
    "snippet = Gddp.raster(uri, ca.bounds, 13)"
   ]
  },
  {
   "cell_type": "code",
   "execution_count": null,
   "metadata": {},
   "outputs": [],
   "source": [
    "plt.imshow(snippet)"
   ]
  },
  {
   "cell_type": "code",
   "execution_count": null,
   "metadata": {},
   "outputs": [],
   "source": [
    "M.set_center(-118.225, 33.897, 10)"
   ]
  },
  {
   "cell_type": "code",
   "execution_count": null,
   "metadata": {
    "collapsed": true
   },
   "outputs": [],
   "source": [
    "days = range(0, 365)"
   ]
  },
  {
   "cell_type": "code",
   "execution_count": null,
   "metadata": {
    "collapsed": true
   },
   "outputs": [],
   "source": [
    "raster_rdd = Gddp.rdd_of_rasters(uri, ca.bounds, days)"
   ]
  },
  {
   "cell_type": "code",
   "execution_count": null,
   "metadata": {
    "collapsed": true
   },
   "outputs": [],
   "source": [
    "masked_rdd = raster_rdd.mask(ca)"
   ]
  },
  {
   "cell_type": "code",
   "execution_count": null,
   "metadata": {
    "collapsed": true
   },
   "outputs": [],
   "source": [
    "cpt = list(Gddp.samples(uri, (-118.225, 33.897), days).collect())\n",
    "mins = [t[1] for t in raster_rdd.min_series(ca)]\n",
    "maxs = [t[1] for t in raster_rdd.max_series(ca)]\n",
    "means = [t[1] for t in raster_rdd.mean_series(ca)]"
   ]
  },
  {
   "cell_type": "code",
   "execution_count": null,
   "metadata": {},
   "outputs": [],
   "source": [
    "plt.plot(days, cpt, label=\"Hub City\")\n",
    "plt.plot(days, mins, label=\"min\")\n",
    "plt.plot(days, maxs, label=\"max\")\n",
    "plt.plot(days, means, label=\"mean\")\n",
    "plt.legend(loc='best')"
   ]
  },
  {
   "cell_type": "markdown",
   "metadata": {},
   "source": [
    "# Build GeoTiff from NumPy Array #"
   ]
  },
  {
   "cell_type": "code",
   "execution_count": null,
   "metadata": {
    "collapsed": true
   },
   "outputs": [],
   "source": [
    "import gdal"
   ]
  },
  {
   "cell_type": "code",
   "execution_count": null,
   "metadata": {
    "collapsed": true
   },
   "outputs": [],
   "source": [
    "snippet = scipy.ndimage.zoom(Gddp.raster(uri, ca.bounds, 33), 128, order=3)\n",
    "(rows, columns) = snippet.shape"
   ]
  },
  {
   "cell_type": "code",
   "execution_count": null,
   "metadata": {
    "collapsed": true
   },
   "outputs": [],
   "source": [
    "wkt = \"\"\"GEOGCS[\\\"WGS 84\\\",\n",
    "    DATUM[\\\"WGS_1984\\\",\n",
    "        SPHEROID[\\\"WGS 84\\\",6378137,298.257223563,\n",
    "            AUTHORITY[\\\"EPSG\\\",\\\"7030\\\"]],\n",
    "        AUTHORITY[\\\"EPSG\",\\\"6326\\\"]],\n",
    "    PRIMEM[\\\"Greenwich\\\",0],\n",
    "    UNIT[\\\"degree\\\",0.0174532925199433],\n",
    "    AUTHORITY[\\\"EPSG\",\\\"4326\\\"]]\"\"\""
   ]
  },
  {
   "cell_type": "markdown",
   "metadata": {},
   "source": [
    "## Build Transform ##\n",
    "\n",
    "http://www.gdal.org/gdal_tutorial.html\n",
    "\n",
    "```\n",
    "adfGeoTransform[0] /* top left x */\n",
    "adfGeoTransform[1] /* w-e pixel resolution */\n",
    "adfGeoTransform[2] /* 0 */\n",
    "adfGeoTransform[3] /* top left y */\n",
    "adfGeoTransform[4] /* 0 */\n",
    "adfGeoTransform[5] /* n-s pixel resolution (negative value) */\n",
    "```"
   ]
  },
  {
   "cell_type": "code",
   "execution_count": null,
   "metadata": {},
   "outputs": [],
   "source": [
    "(xmin, ymin, xmax, ymax) = ca.bounds\n",
    "transform = (xmin, (xmax - xmin)/columns, 0, ymax, 0, (ymin - ymax)/rows)\n",
    "transform"
   ]
  },
  {
   "cell_type": "markdown",
   "metadata": {},
   "source": [
    "## Dump To GeoTiff ##\n",
    "\n",
    "https://gis.stackexchange.com/questions/58517/python-gdal-save-array-as-raster-with-projection-from-other-file"
   ]
  },
  {
   "cell_type": "code",
   "execution_count": null,
   "metadata": {
    "collapsed": true
   },
   "outputs": [],
   "source": [
    "driver = gdal.GetDriverByName('GTiff')\n",
    "dataset = driver.Create(\"/tmp/ca.tif\", columns, rows, 1, gdal.GDT_Float32)\n",
    "dataset.SetGeoTransform(transform)\n",
    "dataset.SetProjection(wkt)\n",
    "dataset.GetRasterBand(1).WriteArray(snippet)\n",
    "dataset.GetRasterBand(1).SetNoDataValue(-1.0)\n",
    "dataset.FlushCache()"
   ]
  },
  {
   "cell_type": "markdown",
   "metadata": {},
   "source": [
    "## Display ##"
   ]
  },
  {
   "cell_type": "code",
   "execution_count": null,
   "metadata": {
    "collapsed": true
   },
   "outputs": [],
   "source": [
    "from geonotebook.wrappers.raster import TMSRasterData\n",
    "\n",
    "from geopyspark.geotrellis.geotiff import get\n",
    "from geopyspark.geotrellis.tms import *\n",
    "from geopyspark.geotrellis.color import ColorMap"
   ]
  },
  {
   "cell_type": "markdown",
   "metadata": {},
   "source": [
    "Trouble with reproject, use `gdalwarp` to reproject to WebMercator."
   ]
  },
  {
   "cell_type": "code",
   "execution_count": null,
   "metadata": {
    "collapsed": true
   },
   "outputs": [],
   "source": [
    "!rm -f /tmp/ca2.tif"
   ]
  },
  {
   "cell_type": "code",
   "execution_count": null,
   "metadata": {},
   "outputs": [],
   "source": [
    "!gdalwarp -t_srs 'EPSG:3857' /tmp/ca.tif /tmp/ca2.tif"
   ]
  },
  {
   "cell_type": "code",
   "execution_count": null,
   "metadata": {
    "collapsed": true
   },
   "outputs": [],
   "source": [
    "rdd = gps.geotiff.get(LayerType.SPATIAL, \"/tmp/ca2.tif\", max_tile_size=512, num_partitions=32)"
   ]
  },
  {
   "cell_type": "code",
   "execution_count": null,
   "metadata": {
    "collapsed": true
   },
   "outputs": [],
   "source": [
    "tiled_raster_layer = rdd.tile_to_layout(layout = gps.GlobalLayout(), target_crs=3857)"
   ]
  },
  {
   "cell_type": "code",
   "execution_count": null,
   "metadata": {},
   "outputs": [],
   "source": [
    "from functools import partial\n",
    "import pyproj\n",
    "from shapely.geometry import shape\n",
    "from shapely.ops import transform\n",
    "\n",
    "project = partial(\n",
    "    pyproj.transform,\n",
    "    pyproj.Proj(init='epsg:4326'),\n",
    "    pyproj.Proj(init='epsg:3857'))\n",
    "\n",
    "ca2 = transform(project, ca)\n",
    "ca2"
   ]
  },
  {
   "cell_type": "code",
   "execution_count": null,
   "metadata": {
    "collapsed": true
   },
   "outputs": [],
   "source": [
    "target = tiled_raster_layer.mask(ca2)"
   ]
  },
  {
   "cell_type": "code",
   "execution_count": null,
   "metadata": {
    "collapsed": true
   },
   "outputs": [],
   "source": [
    "pyramid = target.pyramid()"
   ]
  },
  {
   "cell_type": "code",
   "execution_count": null,
   "metadata": {
    "collapsed": true
   },
   "outputs": [],
   "source": [
    "colormap = gps.ColorMap.build(breaks=target.get_histogram(), colors='plasma')"
   ]
  },
  {
   "cell_type": "code",
   "execution_count": null,
   "metadata": {
    "collapsed": true
   },
   "outputs": [],
   "source": [
    "tms_server = gps.TMS.build(pyramid, display=colormap)"
   ]
  },
  {
   "cell_type": "code",
   "execution_count": null,
   "metadata": {},
   "outputs": [],
   "source": [
    "M.add_layer(TMSRasterData(tms_server), name=\"gddp\")"
   ]
  },
  {
   "cell_type": "code",
   "execution_count": null,
   "metadata": {},
   "outputs": [],
   "source": [
    "M.remove_layer(M.layers[0])"
   ]
  },
  {
   "cell_type": "code",
   "execution_count": null,
   "metadata": {
    "collapsed": true
   },
   "outputs": [],
   "source": []
  }
 ],
 "metadata": {
  "kernelspec": {
   "display_name": "GeoNotebook + GeoPySpark",
   "language": "python",
   "name": "geonotebook3"
  },
  "language_info": {
   "codemirror_mode": {
    "name": "ipython",
    "version": 3
   },
   "file_extension": ".py",
   "mimetype": "text/x-python",
   "name": "python",
   "nbconvert_exporter": "python",
   "pygments_lexer": "ipython3",
   "version": "3.4.5"
  }
 },
 "nbformat": 4,
 "nbformat_minor": 2
}
