{
 "cells": [
  {
   "cell_type": "code",
   "execution_count": null,
   "metadata": {
    "collapsed": true
   },
   "outputs": [],
   "source": [
    "from functools import partial\n",
    "import geopyspark as gps\n",
    "import fiona\n",
    "import pyproj\n",
    "\n",
    "from pyspark import SparkContext\n",
    "from shapely.geometry import MultiPoint, MultiLineString, shape\n",
    "from shapely.ops import transform\n",
    "from geonotebook.wrappers import VectorData, TMSRasterData"
   ]
  },
  {
   "cell_type": "code",
   "execution_count": null,
   "metadata": {
    "collapsed": false
   },
   "outputs": [],
   "source": [
    "# Set up our spark context \n",
    "conf = gps.geopyspark_conf(appName=\"San Fran MVP\", master=\"local[*]\") \n",
    "sc = SparkContext(conf=conf)"
   ]
  },
  {
   "cell_type": "code",
   "execution_count": null,
   "metadata": {
    "collapsed": false
   },
   "outputs": [],
   "source": [
    "# Set the map center to be over San Francisco\n",
    "M.set_center(-122.45, 37.75, 11)"
   ]
  },
  {
   "cell_type": "code",
   "execution_count": null,
   "metadata": {
    "collapsed": false
   },
   "outputs": [],
   "source": [
    "# Download the needed geojsons\n",
    "\n",
    "!curl -o /tmp/bars.geojson https://s3.amazonaws.com/geopyspark-demo/MVP_San_Francisco/bars.geojson\n",
    "!curl -o /tmp/cafes.geojson https://s3.amazonaws.com/geopyspark-demo/MVP_San_Francisco/cafes.geojson \n",
    "!curl -o /tmp/transit.geojson https://s3.amazonaws.com/geopyspark-demo/MVP_San_Francisco/transit.geojson \n",
    "!curl -o /tmp/roads.geojson https://s3.amazonaws.com/geopyspark-demo/MVP_San_Francisco/roads.geojson "
   ]
  },
  {
   "cell_type": "code",
   "execution_count": null,
   "metadata": {
    "collapsed": false
   },
   "outputs": [],
   "source": [
    "# Read in all of the downloaded geojsons as Shapely geometries\n",
    "\n",
    "with fiona.open(\"/tmp/bars.geojson\") as source:\n",
    "    bars_crs = source.crs['init']\n",
    "    bars = MultiPoint([shape(f['geometry']) for f in source])\n",
    "\n",
    "with fiona.open(\"/tmp/cafes.geojson\") as source:\n",
    "    cafes_crs = source.crs['init']\n",
    "    cafes = MultiPoint([shape(f['geometry']) for f in source])\n",
    "    \n",
    "with fiona.open(\"/tmp/transit.geojson\") as source:\n",
    "    transit_crs = source.crs['init']\n",
    "    transit = MultiPoint([shape(f['geometry']) for f in source]) \n",
    "    \n",
    "with fiona.open(\"/tmp/roads.geojson\") as source:\n",
    "    roads_crs = source.crs['init']\n",
    "    roads = [MultiLineString(shape(line['geometry'])) for line in source]"
   ]
  },
  {
   "cell_type": "code",
   "execution_count": null,
   "metadata": {
    "collapsed": false
   },
   "outputs": [],
   "source": [
    "# Reproject each Shapely geometry to EPSG:3857 so it can be\n",
    "# displayed on the map\n",
    "\n",
    "def create_partial_reprojection_func(crs):\n",
    "    return partial(pyproj.transform,\n",
    "                   pyproj.Proj(init=crs),\n",
    "                   pyproj.Proj(init='epsg:3857'))\n",
    "\n",
    "reprojected_bars = [transform(create_partial_reprojection_func(bars_crs), bar) for bar in bars]\n",
    "reprojected_cafes = [transform(create_partial_reprojection_func(cafes_crs), cafe) for cafe in cafes]\n",
    "reprojected_transit = [transform(create_partial_reprojection_func(transit_crs), trans) for trans in transit]\n",
    "reprojected_roads = [transform(create_partial_reprojection_func(roads_crs), road) for road in roads]"
   ]
  },
  {
   "cell_type": "code",
   "execution_count": null,
   "metadata": {
    "collapsed": false
   },
   "outputs": [],
   "source": [
    "# Rasterize the road vectors and create the road fricition\n",
    "# layer.\n",
    "\n",
    "rasterize_options = gps.RasterizerOptions(includePartial=True, sampleType='PixelIsArea')\n",
    "\n",
    "road_raster = gps.rasterize(geoms=reprojected_roads,\n",
    "                            crs=\"EPSG:3857\",\n",
    "                            zoom=12,\n",
    "                            fill_value=1,\n",
    "                            cell_type=gps.CellType.FLOAT32,\n",
    "                            options=rasterize_options,\n",
    "                            num_partitions=50)\n",
    "\n",
    "road_friction = road_raster.reclassify(value_map={1:1},\n",
    "                                       data_type=int,\n",
    "                                       replace_nodata_with=10)"
   ]
  },
  {
   "cell_type": "code",
   "execution_count": null,
   "metadata": {
    "collapsed": true
   },
   "outputs": [],
   "source": [
    "# Create the cost distance layer for bars based on the\n",
    "# road network. Then pyramid the layer.\n",
    "\n",
    "bar_layer = gps.cost_distance(friction_layer=road_friction,\n",
    "                              geometries=reprojected_bars,\n",
    "                              max_distance=1500000.0)\n",
    "\n",
    "bar_pyramid = bar_layer.pyramid()"
   ]
  },
  {
   "cell_type": "code",
   "execution_count": null,
   "metadata": {
    "collapsed": false
   },
   "outputs": [],
   "source": [
    "# Create the cost distance layer for cafes based on the\n",
    "# road network. Then pyramid the layer.\n",
    "\n",
    "cafe_layer = gps.cost_distance(friction_layer=road_friction,\n",
    "                               geometries=reprojected_cafes,\n",
    "                               max_distance=1500000.0)\n",
    "\n",
    "cafe_pyramid = cafe_layer.pyramid()"
   ]
  },
  {
   "cell_type": "code",
   "execution_count": null,
   "metadata": {
    "collapsed": true
   },
   "outputs": [],
   "source": [
    "# Create the cost distance layer for the transit stops\n",
    "# based on the road network. Then pyramid the layer.\n",
    "\n",
    "transit_layer = gps.cost_distance(friction_layer=road_friction,\n",
    "                                  geometries=reprojected_transit,\n",
    "                                  max_distance=1500000.0)\n",
    "\n",
    "transit_pyramid = transit_layer.pyramid()"
   ]
  },
  {
   "cell_type": "code",
   "execution_count": null,
   "metadata": {
    "collapsed": true
   },
   "outputs": [],
   "source": [
    "# Calculate the weighted layer based on our preferences.\n",
    "\n",
    "weighted_layer = (-1 * bar_pyramid) + (transit_pyramid * 5) + (cafe_pyramid * 1)"
   ]
  },
  {
   "cell_type": "code",
   "execution_count": null,
   "metadata": {
    "collapsed": false
   },
   "outputs": [],
   "source": [
    "# Calculate the histogram for the weighted layer and\n",
    "# then create a ColorRamp from the histogram.\n",
    "\n",
    "weighted_histogram = weighted_layer.get_histogram()\n",
    "weighted_color_map = gps.ColorMap.build(breaks=weighted_histogram,\n",
    "                                        colors='viridis')"
   ]
  },
  {
   "cell_type": "code",
   "execution_count": null,
   "metadata": {
    "collapsed": true
   },
   "outputs": [],
   "source": [
    "# Build the TMS server from the weighted layer with its\n",
    "# ColorMap\n",
    "\n",
    "tms = gps.TMS.build(source=weighted_layer,\n",
    "                    display=weighted_color_map)"
   ]
  },
  {
   "cell_type": "code",
   "execution_count": null,
   "metadata": {
    "collapsed": false
   },
   "outputs": [],
   "source": [
    "# Adds the weighted layer and all of the geometries to the map\n",
    "# Bars are red\n",
    "# Cafes are orange\n",
    "# Transit stops are green\n",
    "\n",
    "M.add_layer(TMSRasterData(tms), name=\"Weighted Layer\")\n",
    "M.add_layer(VectorData(\"/tmp/bars.geojson\"), name=\"Bars\", colors=[0xff0000])\n",
    "M.add_layer(VectorData(\"/tmp/cafes.geojson\"), name=\"Cafes\")\n",
    "M.add_layer(VectorData(\"/tmp/transit.geojson\"), name=\"Transit\", colors=[0x00FF00])"
   ]
  },
  {
   "cell_type": "code",
   "execution_count": null,
   "metadata": {
    "collapsed": true
   },
   "outputs": [],
   "source": [
    "for l in M.layers:\n",
    "    M.remove_layer(l)"
   ]
  }
 ],
 "metadata": {
  "kernelspec": {
   "display_name": "Geonotebook (Python 3)",
   "language": "python",
   "name": "geonotebook3"
  },
  "language_info": {
   "codemirror_mode": {
    "name": "ipython",
    "version": 3
   },
   "file_extension": ".py",
   "mimetype": "text/x-python",
   "name": "python",
   "nbconvert_exporter": "python",
   "pygments_lexer": "ipython3",
   "version": "3.5.1+"
  }
 },
 "nbformat": 4,
 "nbformat_minor": 2
}
