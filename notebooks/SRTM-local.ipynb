{
 "cells": [
  {
   "cell_type": "code",
   "execution_count": null,
   "metadata": {
    "collapsed": true
   },
   "outputs": [],
   "source": [
    "import rasterio\n",
    "import rasterio.features\n",
    "import rasterio.warp\n",
    "import geopyspark as gps\n",
    "import numpy as np\n",
    "import matplotlib.pyplot as plt\n",
    "\n",
    "from pyspark import SparkContext\n",
    "from geonotebook.wrappers import TMSRasterData\n",
    "from osgeo import osr\n",
    "\n",
    "import os\n",
    "import math\n",
    "import boto3\n",
    "\n",
    "%matplotlib inline"
   ]
  },
  {
   "cell_type": "code",
   "execution_count": null,
   "metadata": {
    "collapsed": true
   },
   "outputs": [],
   "source": [
    "conf = gps.geopyspark_conf(\"local[*]\", \"SRTM Ingest\") \\\n",
    "          .set(\"spark.dynamicAllocation.enabled\", False) \\\n",
    "          .set(\"spark.ui.enabled\",True) \\\n",
    "          .set(\"spark.hadoop.yarn.timeline-service.enabled\", False)"
   ]
  },
  {
   "cell_type": "code",
   "execution_count": null,
   "metadata": {
    "collapsed": true
   },
   "outputs": [],
   "source": [
    "sc = SparkContext(conf=conf)"
   ]
  },
  {
   "cell_type": "code",
   "execution_count": null,
   "metadata": {},
   "outputs": [],
   "source": [
    "file_names = ['N00E006.hgt', 'N00E009.hgt', 'N00E010.hgt', 'N00E011.hgt', 'N00E012.hgt', 'N00E013.hgt', 'N00E014.hgt', 'N00E015.hgt', 'N00E016.hgt', 'N00E017.hgt']\n",
    "# file_names = file_names[0:2]\n",
    "print(len(file_names))\n",
    "print(file_names[0:10])"
   ]
  },
  {
   "cell_type": "code",
   "execution_count": null,
   "metadata": {
    "collapsed": true
   },
   "outputs": [],
   "source": [
    "def get_metadata(uri):\n",
    "    if \"GDAL_DATA\" not in os.environ:\n",
    "        os.environ[\"GDAL_DATA\"]=\"/home/hadoop/.local/lib/python3.4/site-packages/fiona/gdal_data\"\n",
    "    \n",
    "    try:\n",
    "        with rasterio.open(uri) as dataset:\n",
    "            bounds = dataset.bounds\n",
    "            height = dataset.height\n",
    "            width = dataset.width\n",
    "            crs = dataset.get_crs()\n",
    "            srs = osr.SpatialReference()\n",
    "            srs.ImportFromWkt(crs.wkt)\n",
    "            proj4 = srs.ExportToProj4()\n",
    "            # ws = [w for (ij, w) in dataset.block_windows()]\n",
    "            tile_cols = (int)(math.ceil(width/512)) * 512\n",
    "            tile_rows = (int)(math.ceil(height/512)) * 512\n",
    "            ws = [((x, min(width-1,x + 512)), (y, min(height-1,y + 512))) for x in range(0, tile_cols, 512) for y in range(0, tile_rows, 512)]\n",
    "    except:\n",
    "            ws = []\n",
    "            \n",
    "    def windows(uri, ws):\n",
    "        for w in ws:\n",
    "            ((row_start, row_stop), (col_start, col_stop)) = w\n",
    "\n",
    "            left  = bounds.left + (bounds.right - bounds.left)*(float(col_start)/width)\n",
    "            right = bounds.left + (bounds.right - bounds.left)*(float(col_stop)/ width)\n",
    "            bottom = bounds.top + (bounds.bottom - bounds.top)*(float(row_stop)/height)\n",
    "            top = bounds.top + (bounds.bottom - bounds.top)*(float(row_start)/height)\n",
    "            extent = gps.Extent(left,bottom,right,top)\n",
    "                \n",
    "            new_line = {}\n",
    "            new_line['uri'] = uri\n",
    "            new_line['window'] = w\n",
    "            new_line['projected_extent'] = gps.ProjectedExtent(extent=extent, proj4=proj4)\n",
    "            yield new_line\n",
    "    \n",
    "    return [i for i in windows(uri, ws)]\n"
   ]
  },
  {
   "cell_type": "code",
   "execution_count": null,
   "metadata": {
    "collapsed": true
   },
   "outputs": [],
   "source": [
    "def get_data(line):\n",
    "    new_line = line.copy()\n",
    "\n",
    "    with rasterio.open(line['uri']) as dataset:\n",
    "        new_line['data'] = dataset.read(1, window=line['window'])\n",
    "        new_line.pop('window')\n",
    "        new_line.pop('uri')\n",
    "    \n",
    "    return new_line"
   ]
  },
  {
   "cell_type": "code",
   "execution_count": null,
   "metadata": {
    "collapsed": true
   },
   "outputs": [],
   "source": [
    "def filename_to_data(filename):\n",
    "    full_filename = \"/vsicurl/https://s3.amazonaws.com/mrgeo-source/srtm-v3-30/{}\".format(filename)\n",
    "    data = [get_data(line) for line in get_metadata(full_filename)]\n",
    "    return data"
   ]
  },
  {
   "cell_type": "code",
   "execution_count": null,
   "metadata": {},
   "outputs": [],
   "source": [
    "rdd0 = sc.parallelize(file_names)\n",
    "rdd1 = rdd0.flatMap(filename_to_data)\n",
    "print(rdd1.count())"
   ]
  },
  {
   "cell_type": "code",
   "execution_count": null,
   "metadata": {
    "collapsed": true
   },
   "outputs": [],
   "source": [
    "rdd2 = rdd1.groupBy(lambda line: line['projected_extent']) # XXX"
   ]
  },
  {
   "cell_type": "code",
   "execution_count": null,
   "metadata": {
    "collapsed": true
   },
   "outputs": [],
   "source": [
    "def make_tiles(line):\n",
    "    projected_extent = line[0]\n",
    "    array = np.array([l['data'] for l in line[1]])\n",
    "    tile = gps.Tile.from_numpy_array(array, no_data_value=0)\n",
    "    return (projected_extent, tile)\n"
   ]
  },
  {
   "cell_type": "code",
   "execution_count": null,
   "metadata": {
    "collapsed": true
   },
   "outputs": [],
   "source": [
    "rdd3 = rdd2.map(make_tiles)"
   ]
  },
  {
   "cell_type": "code",
   "execution_count": null,
   "metadata": {
    "collapsed": true
   },
   "outputs": [],
   "source": [
    "raster_layer = gps.RasterLayer.from_numpy_rdd(gps.LayerType.SPATIAL, rdd3)"
   ]
  },
  {
   "cell_type": "code",
   "execution_count": null,
   "metadata": {
    "collapsed": true
   },
   "outputs": [],
   "source": [
    "tiled_raster_layer = raster_layer.tile_to_layout(layout = gps.GlobalLayout(), target_crs=3857)"
   ]
  },
  {
   "cell_type": "code",
   "execution_count": null,
   "metadata": {
    "collapsed": true
   },
   "outputs": [],
   "source": [
    "pyramid = tiled_raster_layer.pyramid()"
   ]
  },
  {
   "cell_type": "code",
   "execution_count": null,
   "metadata": {},
   "outputs": [],
   "source": [
    "for layer in pyramid.levels.values():\n",
    "    gps.write(\"file:///tmp/dg-srtm/\", \"srtm-geopyspark-1\", layer)"
   ]
  },
  {
   "cell_type": "code",
   "execution_count": null,
   "metadata": {
    "collapsed": true
   },
   "outputs": [],
   "source": [
    "# pyramid2 = gps.Pyramid([gps.query(\"file:///tmp/dg-srtm\", \"srtm-geopyspark\", layer_zoom=n, num_partitions=1024*16) for n in range(0,13+1)])"
   ]
  },
  {
   "cell_type": "code",
   "execution_count": null,
   "metadata": {
    "collapsed": true
   },
   "outputs": [],
   "source": [
    "histogram = pyramid.get_histogram()\n",
    "color_map = gps.ColorMap.build(breaks=histogram, colors='viridis')"
   ]
  },
  {
   "cell_type": "code",
   "execution_count": null,
   "metadata": {
    "collapsed": true
   },
   "outputs": [],
   "source": [
    "tms = gps.TMS.build(source=pyramid, display=color_map)"
   ]
  },
  {
   "cell_type": "code",
   "execution_count": null,
   "metadata": {},
   "outputs": [],
   "source": [
    "M.add_layer(TMSRasterData(tms), name=\"Weighted Layer\")"
   ]
  },
  {
   "cell_type": "code",
   "execution_count": null,
   "metadata": {
    "collapsed": true
   },
   "outputs": [],
   "source": []
  }
 ],
 "metadata": {
  "kernelspec": {
   "display_name": "GeoNotebook + GeoPySpark",
   "language": "python",
   "name": "geonotebook3"
  },
  "language_info": {
   "codemirror_mode": {
    "name": "ipython",
    "version": 3
   },
   "file_extension": ".py",
   "mimetype": "text/x-python",
   "name": "python",
   "nbconvert_exporter": "python",
   "pygments_lexer": "ipython3",
   "version": "3.4.3"
  }
 },
 "nbformat": 4,
 "nbformat_minor": 2
}
