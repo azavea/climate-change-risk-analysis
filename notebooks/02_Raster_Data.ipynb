{
 "cells": [
  {
   "cell_type": "markdown",
   "metadata": {},
   "source": [
    "# Loading raster data on to the map\n",
    "\n",
    "In this notebook we'll take a look at using the built in tile server to render raster data to the map. The tile server used is based on [KTile](https://github.com/OpenGeoscience/KTile) a fork of TileStache and is directly integrated into the Jupyter Notebook. The GeoJS map uses this tile server to render data efficiently to the map for visualization. "
   ]
  },
  {
   "cell_type": "code",
   "execution_count": null,
   "metadata": {
    "collapsed": true
   },
   "outputs": [],
   "source": [
    "%matplotlib inline\n",
    "from matplotlib import pylab as plt"
   ]
  },
  {
   "cell_type": "markdown",
   "metadata": {},
   "source": [
    "## Get data from S3\n",
    "\n",
    "For this notebook we'll get some sample data from S3.  This GeoTiff represents NBAR data for September from 2010 covering a section of Washington states Glacier National Park. It is aproximately 200Mb and may take some time to download from Amazon's S3.\n",
    "\n",
    "The tiff itself has been slightly transformed from its original HDF dataset. In particular it only has 4 bands (R,G,B & NDVI) and includes some geotiff tags with band statistics."
   ]
  },
  {
   "cell_type": "code",
   "execution_count": null,
   "metadata": {
    "scrolled": true
   },
   "outputs": [],
   "source": [
    "!curl -o /tmp/L57.Globe.month09.2010.hh09vv04.h6v1.doy247to273.NBAR.v3.0.tiff https://data.kitware.com/api/v1/file/58dd384a8d777f0aef5d8cc2/download"
   ]
  },
  {
   "cell_type": "markdown",
   "metadata": {},
   "source": [
    "## Adding an RGB layer to the map\n",
    "\n",
    "Here we add our first data layer to the map. To do this we use a ```RasterData``` object imported from the geonotebook.wrappers package. By default RasterData objects read tiffs using the ```rasterio``` library.  RasterData objects are designed to provide a consistent API to raster data across a number of different readers and systems. We will use the ```add_layer``` function to add the RasterData object to the map."
   ]
  },
  {
   "cell_type": "code",
   "execution_count": null,
   "metadata": {},
   "outputs": [],
   "source": [
    "# Set the center of the map to the location the data\n",
    "M.set_center(-120.32, 47.84, 7)"
   ]
  },
  {
   "cell_type": "code",
   "execution_count": null,
   "metadata": {},
   "outputs": [],
   "source": [
    "from geonotebook.wrappers import RasterData\n",
    "\n",
    "rd = RasterData('file:///tmp/L57.Globe.month09.2010.hh09vv04.h6v1.doy247to273.NBAR.v3.0.tiff')\n",
    "rd"
   ]
  },
  {
   "cell_type": "markdown",
   "metadata": {},
   "source": [
    "To add the layer we call ```M.add_layer``` passing in a subset of the raster data set's bands. In this case we index into ```rd``` with the list [1, 2, 3].  This actually returns a new RasterData object with only three bands available (in this case bands 1, 2 and 3 corrispond to Red, Green and Blue).  When adding layers you can only add a layer with either 3 bands (R,G,B)  or one band (we'll see a one band example in a moment)."
   ]
  },
  {
   "cell_type": "code",
   "execution_count": null,
   "metadata": {},
   "outputs": [],
   "source": [
    "M.add_layer(rd[1, 2, 3], opacity=1.0, gamma=2.5)"
   ]
  },
  {
   "cell_type": "markdown",
   "metadata": {},
   "source": [
    "This should have added an RGB dataset to the map for visualization.  You can also see what layers are available via the ```M.layers``` attribute."
   ]
  },
  {
   "cell_type": "code",
   "execution_count": null,
   "metadata": {},
   "outputs": [],
   "source": [
    "M.layers"
   ]
  },
  {
   "cell_type": "markdown",
   "metadata": {},
   "source": [
    "The dataset may appear alarmingly dark.  This is because the data itself is not well formated. We can see this by looking at band min and max values:"
   ]
  },
  {
   "cell_type": "code",
   "execution_count": null,
   "metadata": {},
   "outputs": [],
   "source": [
    "print(\"Color   Min               Max\")\n",
    "print(\"Red:   {}, {}\".format(rd[1].min, rd[1].max))\n",
    "print(\"Green: {}, {}\".format(rd[2].min, rd[2].max))\n",
    "print(\"Blue:  {}, {}\".format(rd[3].min, rd[3].max))"
   ]
  },
  {
   "cell_type": "markdown",
   "metadata": {},
   "source": [
    "R,G,B values should be between 0 and 1. We can remedy this by changing some of the styling options that are available on the layers including setting an interval for scaling our data, and setting a gamma to brighten the image.  \n",
    "\n",
    "First we'll demonstrate removing the layer:"
   ]
  },
  {
   "cell_type": "code",
   "execution_count": null,
   "metadata": {},
   "outputs": [],
   "source": [
    "M.remove_layer(M.layers[0])"
   ]
  },
  {
   "cell_type": "markdown",
   "metadata": {},
   "source": [
    "Then we can re-add the layer with a color interval of 0 to 1. "
   ]
  },
  {
   "cell_type": "code",
   "execution_count": null,
   "metadata": {},
   "outputs": [],
   "source": [
    "M.add_layer(rd[1, 2, 3], interval=(0,1))"
   ]
  },
  {
   "cell_type": "markdown",
   "metadata": {},
   "source": [
    "We can also brighten this up by changing the gamma. \n",
    "\n",
    "*Note* We don't have to remove the layer before updating it's options.  Calling ```M.add_layer(...)``` with the same ```rd``` object will simply replace any existing layer with the same name.  By default the layer's name is inferred from the filename."
   ]
  },
  {
   "cell_type": "code",
   "execution_count": null,
   "metadata": {},
   "outputs": [],
   "source": [
    "M.remove_layer(M.layers[0])\n",
    "M.add_layer(rd[1, 2, 3], interval=(0,1), gamma=0.5)"
   ]
  },
  {
   "cell_type": "markdown",
   "metadata": {},
   "source": [
    "Finally,  let's add a little opacity to layer so we can see some of the underlying base map features."
   ]
  },
  {
   "cell_type": "code",
   "execution_count": null,
   "metadata": {},
   "outputs": [],
   "source": [
    "M.remove_layer(M.layers[0])\n",
    "M.add_layer(rd[1, 2, 3], interval=(0,1), gamma=0.5, opacity=0.75)"
   ]
  },
  {
   "cell_type": "code",
   "execution_count": null,
   "metadata": {},
   "outputs": [],
   "source": [
    "# Remove the layer before moving on to the next section\n",
    "M.remove_layer(M.layers[0])"
   ]
  },
  {
   "cell_type": "markdown",
   "metadata": {},
   "source": [
    "## Adding a single band Layer\n",
    "\n",
    "Adding a single band layer uses the same ```M.add_layer(...)``` interface.  Keep in mind that several of the styling options are slightly different.  By default single band rasters are rendered with a default mapping of colors to band values."
   ]
  },
  {
   "cell_type": "code",
   "execution_count": null,
   "metadata": {},
   "outputs": [],
   "source": [
    "M.add_layer(rd[4])"
   ]
  },
  {
   "cell_type": "markdown",
   "metadata": {},
   "source": [
    "You may find this colormap a little *aggressive*,  in which case you can replace the colormap with any of the built in [matplotlib colormaps](http://matplotlib.org/users/colormaps.html):"
   ]
  },
  {
   "cell_type": "code",
   "execution_count": null,
   "metadata": {},
   "outputs": [],
   "source": [
    "M.remove_layer(M.layers[0])\n",
    "\n",
    "cmap = plt.get_cmap('winter', 10)\n",
    "M.add_layer(rd[4], colormap=cmap, opacity=0.8)"
   ]
  },
  {
   "cell_type": "markdown",
   "metadata": {},
   "source": [
    "Including custom color maps as in this example.  Here we create a linear segmented colormap that transitions from Blue to Beige to Green. When mapped to our NDVI band data -1 will appear blue,  0 will appear beige  and 1 will appear green."
   ]
  },
  {
   "cell_type": "code",
   "execution_count": null,
   "metadata": {},
   "outputs": [],
   "source": [
    "from matplotlib.colors import LinearSegmentedColormap\n",
    "\n",
    "M.remove_layer(M.layers[0])\n",
    "\n",
    "# Divergent Blue to Beige to Green colormap\n",
    "cmap =LinearSegmentedColormap.from_list(\n",
    "  'ndvi', ['blue', 'beige', 'green'], 20)\n",
    "\n",
    "# Add layer with custom colormap\n",
    "M.add_layer(rd[4], colormap=cmap, opacity=0.8, min=-1.0, max=1.0)"
   ]
  },
  {
   "cell_type": "markdown",
   "metadata": {},
   "source": [
    "# What can I do with this data?\n",
    "\n",
    "We will address the use of annotations for analysis and data comparison in a separate notebook.  For now Let's focus on a small agricultural area north of I-90:"
   ]
  },
  {
   "cell_type": "code",
   "execution_count": null,
   "metadata": {},
   "outputs": [],
   "source": [
    "M.set_center(-119.25618502500376, 47.349300631765104, 11)"
   ]
  },
  {
   "cell_type": "markdown",
   "metadata": {},
   "source": [
    "Go ahead and start a rectangular annotation (Second button to the right of the 'CellToolbar' button - with the square icon). \n",
    "\n",
    "    Please annotate a small region of the fields.\n",
    "    \n",
    "We can access this data from from the annotation's ```data``` attribute. We'll cover exactly what is going on here in another notebook."
   ]
  },
  {
   "cell_type": "code",
   "execution_count": null,
   "metadata": {},
   "outputs": [],
   "source": [
    "layer, data = next(M.layers.annotation.rectangles[0].data)\n",
    "data"
   ]
  },
  {
   "cell_type": "markdown",
   "metadata": {},
   "source": [
    "As a sanity check we can prove the data is the region we've selected by plotting the data with matplotlib's [imshow](http://matplotlib.org/api/pyplot_api.html#matplotlib.pyplot.imshow) function:\n",
    "\n",
    "*Note* The scale of the matplotlib image may seem slightly different than the rectangle you've selected on the map.  This is because the map is displaying in [Web Mercator](https://en.wikipedia.org/wiki/Web_Mercator) projection (EPSG:3857) while imshow is simply displaying the raw data, selected out of the geotiff (you can think of it as being in a 'row', 'column' projection)."
   ]
  },
  {
   "cell_type": "code",
   "execution_count": null,
   "metadata": {
    "scrolled": false
   },
   "outputs": [],
   "source": [
    "import numpy as np\n",
    "\n",
    "fig, ax = plt.subplots(figsize=(16, 16))\n",
    "ax.imshow(data, interpolation='none', cmap=cmap, clim=(-1.0, 1.0))"
   ]
  },
  {
   "cell_type": "markdown",
   "metadata": {},
   "source": [
    "### NDVI Segmentation analysis\n",
    "\n",
    "Once we have this data we can run arbitrary analyses on it.  In the next cell we use a sobel filter and a watershed transformation to generate a binary mask of the data.  We then use an implementation of marching cubes to vectorize the data,  effectively segmenting green areas (e.g. fields)  from surrounding areas.\n",
    "\n",
    "This next cell requires both [scipy](https://www.scipy.org/) and [scikit-image](http://scikit-image.org/). Check your operating system documentation for how best to install these packages."
   ]
  },
  {
   "cell_type": "code",
   "execution_count": null,
   "metadata": {
    "scrolled": false
   },
   "outputs": [],
   "source": [
    "# Adapted from the scikit-image segmentation tutorial\n",
    "# See: http://scikit-image.org/docs/dev/user_guide/tutorial_segmentation.html\n",
    "import numpy as np\n",
    "\n",
    "from skimage import measure\n",
    "from skimage.filters import sobel\n",
    "from skimage.morphology import watershed\n",
    "from scipy import ndimage as ndi\n",
    "\n",
    "\n",
    "THRESHOLD = 20\n",
    "WATER_MIN = 0.2\n",
    "WATER_MAX = 0.6\n",
    "\n",
    "fig, ax = plt.subplots(figsize=(16, 16))\n",
    "edges = sobel(data)\n",
    "\n",
    "\n",
    "markers = np.zeros_like(data)\n",
    "markers[data > WATER_MIN] = 2\n",
    "markers[data > WATER_MAX] = 1\n",
    "\n",
    "\n",
    "mask = (watershed(edges, markers) - 1).astype(bool)\n",
    "seg = np.zeros_like(mask, dtype=int)\n",
    "seg[~mask] = 1\n",
    "\n",
    "# Fill holes\n",
    "seg = ndi.binary_fill_holes(seg)\n",
    "\n",
    "# Ignore entities smaller than THRESHOLD\n",
    "label_objects, _ = ndi.label(seg)\n",
    "sizes = np.bincount(label_objects.ravel())\n",
    "mask_sizes = sizes > THRESHOLD\n",
    "mask_sizes[0] = 0\n",
    "\n",
    "clean_segs = mask_sizes[label_objects]\n",
    "\n",
    "\n",
    "# Find contours of the segmented data\n",
    "contours = measure.find_contours(clean_segs, 0)\n",
    "ax.imshow(data, interpolation='none', cmap=cmap, clim=(-1.0, 1.0))\n",
    "\n",
    "ax.axis('tight')\n",
    "\n",
    "for n, contour in enumerate(contours):\n",
    "    ax.plot(contour[:, 1], contour[:, 0], linewidth=4)\n",
    "  "
   ]
  },
  {
   "cell_type": "code",
   "execution_count": null,
   "metadata": {
    "collapsed": true
   },
   "outputs": [],
   "source": []
  }
 ],
 "metadata": {
  "kernelspec": {
   "display_name": "GeoNotebook + GeoPySpark",
   "language": "python",
   "name": "geonotebook3"
  },
  "language_info": {
   "codemirror_mode": {
    "name": "ipython",
    "version": 3
   },
   "file_extension": ".py",
   "mimetype": "text/x-python",
   "name": "python",
   "nbconvert_exporter": "python",
   "pygments_lexer": "ipython3",
   "version": "3.4.5"
  }
 },
 "nbformat": 4,
 "nbformat_minor": 1
}
